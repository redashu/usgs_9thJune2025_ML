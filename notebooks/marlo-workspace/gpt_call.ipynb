{
 "cells": [
  {
   "cell_type": "code",
   "execution_count": 1,
   "id": "8d082bb5-b26b-476f-a8b0-993c361d1405",
   "metadata": {},
   "outputs": [],
   "source": [
    "from openai import OpenAI\n"
   ]
  },
  {
   "cell_type": "code",
   "execution_count": null,
   "id": "0e242af7-6337-43ce-91ad-c40426c5c810",
   "metadata": {},
   "outputs": [],
   "source": [
    "api_key1=\"\""
   ]
  },
  {
   "cell_type": "code",
   "execution_count": 3,
   "id": "ec1c53af-2b27-4037-9e10-3b76403310c6",
   "metadata": {},
   "outputs": [],
   "source": [
    "client = OpenAI(api_key=api_key1)"
   ]
  },
  {
   "cell_type": "code",
   "execution_count": 33,
   "id": "8c23b020-2915-4fa9-a961-47ef65240166",
   "metadata": {},
   "outputs": [],
   "source": [
    "response = client.responses.create(\n",
    "    model=\"gpt-4.1\",\n",
    "    input=\"How many states, commonwealths, and terriorties that make of the United States?\"\n",
    ")"
   ]
  },
  {
   "cell_type": "code",
   "execution_count": 34,
   "id": "67130265-b167-45c0-bbcb-f10bdbafa79e",
   "metadata": {},
   "outputs": [
    {
     "name": "stdout",
     "output_type": "stream",
     "text": [
      "The United States is made up of the following:\n",
      "\n",
      "### States\n",
      "- There are **50 states** in the United States.\n",
      "\n",
      "### Commonwealths (in the context of U.S. States)\n",
      "- Four states call themselves \"commonwealths\" as part of their official names, but they have the same legal status as other states:\n",
      "  - **Kentucky**\n",
      "  - **Massachusetts**\n",
      "  - **Pennsylvania**\n",
      "  - **Virginia**\n",
      "\n",
      "*Note: These are counted among the 50 states, not in addition.*\n",
      "\n",
      "### Territories\n",
      "The United States has several **inhabited territories**, plus a number of uninhabited territories. The main **inhabited territories** are:\n",
      "\n",
      "1. **Puerto Rico** (a commonwealth)\n",
      "2. **Guam**\n",
      "3. **U.S. Virgin Islands**\n",
      "4. **American Samoa**\n",
      "5. **Northern Mariana Islands** (a commonwealth)\n",
      "\n",
      "### Summary Table\n",
      "\n",
      "| Category     | Number | Names                                             |\n",
      "|--------------|--------|--------------------------------------------------|\n",
      "| States       | 50     | (including 4 commonwealths: KY, MA, PA, VA)      |\n",
      "| Territories  | 5 (main inhabited) | Puerto Rico, Guam, USVI, American Samoa, Northern Mariana Islands |\n",
      "\n",
      "**Note:** \"Commonwealth\" is a self-designation for 4 states and 2 territories (Puerto Rico, Northern Mariana Islands), but all 4 commonwealth states are counted as states.\n",
      "\n",
      "---\n",
      "\n",
      "**Total entities under U.S. jurisdiction:**\n",
      "- 50 states\n",
      "- 5 major inhabited territories\n",
      "\n",
      "So, while \"commonwealth\" is used in some state/territory names, legally there are:\n",
      "- **50 states**\n",
      "- **5 main inhabited territories**\n",
      "\n",
      "Let me know if you need details on the uninhabited territories!\n"
     ]
    }
   ],
   "source": [
    "print(response.output_text)"
   ]
  },
  {
   "cell_type": "code",
   "execution_count": null,
   "id": "a2964c52-49fb-4f02-a1c2-35208a4b5e6c",
   "metadata": {},
   "outputs": [],
   "source": []
  }
 ],
 "metadata": {
  "kernelspec": {
   "display_name": "Python 3 (ipykernel)",
   "language": "python",
   "name": "python3"
  },
  "language_info": {
   "codemirror_mode": {
    "name": "ipython",
    "version": 3
   },
   "file_extension": ".py",
   "mimetype": "text/x-python",
   "name": "python",
   "nbconvert_exporter": "python",
   "pygments_lexer": "ipython3",
   "version": "3.12.3"
  }
 },
 "nbformat": 4,
 "nbformat_minor": 5
}
