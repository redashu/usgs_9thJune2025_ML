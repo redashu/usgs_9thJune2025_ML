{
 "cells": [
  {
   "cell_type": "code",
   "execution_count": null,
   "id": "7a8d94f5-b149-48f7-84d7-2b0cb8715e89",
   "metadata": {
    "scrolled": true
   },
   "outputs": [],
   "source": [
    "from openai import OpenAI\n"
   ]
  },
  {
   "cell_type": "code",
   "execution_count": null,
   "id": "973b393d-c6e6-4332-9994-c74fb556f6a9",
   "metadata": {},
   "outputs": [],
   "source": [
    "# provided through course\n",
    "api_key1 = \"\""
   ]
  },
  {
   "cell_type": "code",
   "execution_count": 4,
   "id": "0317160d-3342-45ab-bcd8-67c75c35dbef",
   "metadata": {},
   "outputs": [],
   "source": [
    "client = OpenAI(api_key=api_key1)\n",
    "\n"
   ]
  },
  {
   "cell_type": "code",
   "execution_count": 6,
   "id": "93bfef01-0f7a-4ed6-892f-8b5f9588b822",
   "metadata": {},
   "outputs": [
    {
     "name": "stdout",
     "output_type": "stream",
     "text": [
      "**Water availability in the Colorado River Basin** has declined substantially from 1980 to 2020. Here’s a summary of the key changes and causes:\n",
      "\n",
      "---\n",
      "\n",
      "### 1. **Declining River Flow**\n",
      "- **Total Flow:** Average annual flows of the Colorado River measured at Lee Ferry have **decreased by about 20% since 2000**, compared to the 20th-century average.\n",
      "- **1980s:** Flows were closer to historic averages (~15 million acre-feet [MAF] per year).\n",
      "- **2000–2020:** Flows often fell below 12-13 MAF, with especially pronounced drought conditions after 2000.\n",
      "\n",
      "### 2. **Drought and \"Megadrought\"**\n",
      "- **2000–2020:** Marked the most persistent and severe drought in the region in over 1,200 years (source: Williams et al., 2022, *Nature Climate Change*).\n",
      "- **Cause:** Below-average precipitation, increased temperatures, and higher evaporation have intensified the drought.\n",
      "\n",
      "### 3. **Reservoir Storage**\n",
      "- **Lake Mead and Lake Powell:** These two key reservoirs have seen their storage levels **drop to historic lows**.\n",
      "    - **1980:** Reservoirs were mostly full, with ample carryover storage.\n",
      "    - **2020:** Combined storage less than 50% of capacity, threatening water supply and hydropower.\n",
      "\n",
      "### 4. **Water Demand and Use**\n",
      "- **Increasing demand:** Population growth in the Southwest and agricultural use kept demand high, despite modest conservation efforts.\n",
      "- **More withdrawals:** 1980–2020 saw growing use by Southern California, Arizona, Nevada, and Mexico.\n",
      "\n",
      "### 5. **Climate Change Impact**\n",
      "- Warming temperatures across the basin have led to:\n",
      "    - Less snowfall and faster snowmelt.\n",
      "    - Higher evaporation.\n",
      "    - Lower runoff into the river.\n",
      "\n",
      "---\n",
      "\n",
      "**In Summary:**  \n",
      "From 1980 to 2020, water availability in the Colorado River Basin **declined significantly**, driven by reduced river flows, increased temperatures and evaporation, ongoing drought, and steadily rising water demands.\n",
      "\n",
      "**References:**  \n",
      "- U.S. Bureau of Reclamation, “Colorado River Basin Water Supply and Demand Study”\n",
      "- Williams, A. P., et al. (2022), “Rapid intensification of the emerging southwestern North American megadrought in 2020–2021,” *Nature Climate Change*: https://www.nature.com/articles/s41558-022-01290-z\n",
      "- USGS, “Colorado River Basin Climate and Hydrology: State of the Science”  \n",
      "\n",
      "Would you like a chart illustrating these trends?\n"
     ]
    }
   ],
   "source": [
    "response = client.responses.create(\n",
    "    model=\"gpt-4.1\",\n",
    "    input=\"how has water availability in the Colorado River Basin changed from 1980 to 2020?\"\n",
    ")\n",
    "\n",
    "print(response.output_text)"
   ]
  },
  {
   "cell_type": "code",
   "execution_count": 8,
   "id": "8fbfe3a3-f3e2-4e8d-8a54-3d90fd7834f8",
   "metadata": {},
   "outputs": [
    {
     "name": "stdout",
     "output_type": "stream",
     "text": [
      "**Nutrient trends in U.S. rivers from 2000 to 2020** reflect a complex picture, influenced by agricultural practices, urbanization, climate, and water management. Here’s a **summary of what scientific studies and federal monitoring report:**\n",
      "\n",
      "---\n",
      "\n",
      "### **1. Nitrate (a form of nitrogen)**\n",
      "- **Nitrate concentrations have generally increased or remained high** in many major U.S. rivers, especially in the Midwest and Mississippi River Basin.  \n",
      "- **Key drivers:** Continued fertilizer use, tile drainage in agriculture, and legacy effects of decades of nutrient buildup in soils.\n",
      "- Some **localized improvements** have occurred due to conservation practices, but at a national scale, there is **no clear downward trend**.\n",
      "\n",
      "#### Source: [USGS 2020 Nutrients Trends Report](https://pubs.usgs.gov/sir/2020/5087/sir20205087.pdf)\n",
      "\n",
      "---\n",
      "\n",
      "### **2. Phosphorus**\n",
      "- **Phosphorus levels show mixed trends.** Some rivers, especially those near upgraded sewage treatment plants, have seen **reductions** in phosphorus concentrations, thanks to targeted regulatory and technological efforts.\n",
      "- However, in agricultural regions, **phosphorus levels remain high** due to runoff from fields and animal operations.\n",
      "- Recent studies suggest **more variability** and sometimes **increases** in dissolved phosphorus, which is more readily available to fuel algal blooms.\n",
      "\n",
      "#### Source: [USGS National Water-Quality Program](https://www.usgs.gov/mission-areas/water-resources/science/nutrients-and-eutrophication)\n",
      "\n",
      "---\n",
      "\n",
      "### **3. Impacts and Concerns**\n",
      "- **High nutrient concentrations (nitrogen and phosphorus)** are a primary cause of harmful algal blooms, hypoxia (like the Gulf of Mexico \"Dead Zone\"), and water quality impairments in numerous rivers and lakes.\n",
      "- **Nutrient pollution remains one of the top water quality challenges** in the U.S.\n",
      "\n",
      "---\n",
      "\n",
      "### **Key Takeaways**\n",
      "\n",
      "- **Nitrate:** Little to no improvement nationally since 2000; some local improvements.\n",
      "- **Phosphorus:** Some improvements near point sources, stagnation or increases in heavily farmed regions.\n",
      "- **Persistent Challenge:** Nonpoint source pollution from agriculture remains the most difficult to control.\n",
      "\n",
      "---\n",
      "\n",
      "### **For deeper research:**\n",
      "- [USGS Water-Quality Trends in the Nation’s Rivers and Streams (2002-2012)](https://pubs.usgs.gov/circ/1431/cir1431.pdf) (latest comprehensive report)\n",
      "- [EPA Nutrient Pollution Issue](https://www.epa.gov/nutrient-policy-data/cyanobacterial-harmful-algal-blooms-water-quality)\n",
      "- [USGS Stream Water Quality Dashboard (annual data)](https://dashboard.waterdata.usgs.gov/app/nwqmc/)\n",
      "\n",
      "**Summary:**  \n",
      "**Between 2000 and 2020, U.S. river nutrients show slow, mixed progress:**  \n",
      "- Some areas see improvement, especially for phosphorus from point sources.\n",
      "- Many agricultural watersheds have stubbornly high, often increasing nutrient levels.\n",
      "- Nutrient pollution remains a persistent environmental and public health challenge.\n"
     ]
    }
   ],
   "source": [
    "response = client.responses.create(\n",
    "    model=\"gpt-4.1\",\n",
    "    input=\"how have nutrients in US rivers changed from 2000 to 2020?\"\n",
    ")\n",
    "\n",
    "print(response.output_text)"
   ]
  },
  {
   "cell_type": "code",
   "execution_count": null,
   "id": "0b544a50-a107-402c-aa39-0c936214007c",
   "metadata": {},
   "outputs": [],
   "source": []
  }
 ],
 "metadata": {
  "kernelspec": {
   "display_name": "Python 3 (ipykernel)",
   "language": "python",
   "name": "python3"
  },
  "language_info": {
   "codemirror_mode": {
    "name": "ipython",
    "version": 3
   },
   "file_extension": ".py",
   "mimetype": "text/x-python",
   "name": "python",
   "nbconvert_exporter": "python",
   "pygments_lexer": "ipython3",
   "version": "3.12.3"
  }
 },
 "nbformat": 4,
 "nbformat_minor": 5
}
