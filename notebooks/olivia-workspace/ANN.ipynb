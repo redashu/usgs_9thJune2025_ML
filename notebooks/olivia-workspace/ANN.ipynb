{
 "cells": [
  {
   "cell_type": "code",
   "execution_count": 4,
   "id": "d3533431",
   "metadata": {},
   "outputs": [],
   "source": [
    "# loading virtual python environment (created in EC2 terminal)\n",
    "!source ./bin/activate"
   ]
  },
  {
   "cell_type": "code",
   "execution_count": 6,
   "id": "c96ddcaf",
   "metadata": {},
   "outputs": [
    {
     "ename": "ModuleNotFoundError",
     "evalue": "No module named 'pandas'",
     "output_type": "error",
     "traceback": [
      "\u001b[0;31m---------------------------------------------------------------------------\u001b[0m",
      "\u001b[0;31mModuleNotFoundError\u001b[0m                       Traceback (most recent call last)",
      "Cell \u001b[0;32mIn[6], line 2\u001b[0m\n\u001b[1;32m      1\u001b[0m \u001b[38;5;66;03m# import python libraries\u001b[39;00m\n\u001b[0;32m----> 2\u001b[0m \u001b[38;5;28;01mimport\u001b[39;00m \u001b[38;5;21;01mpandas\u001b[39;00m \u001b[38;5;28;01mas\u001b[39;00m \u001b[38;5;21;01mpd\u001b[39;00m\n\u001b[1;32m      3\u001b[0m \u001b[38;5;28;01mimport\u001b[39;00m \u001b[38;5;21;01mmatplotlib\u001b[39;00m\u001b[38;5;21;01m.\u001b[39;00m\u001b[38;5;21;01mpyplot\u001b[39;00m \u001b[38;5;28;01mas\u001b[39;00m \u001b[38;5;21;01mplt\u001b[39;00m\n\u001b[1;32m      4\u001b[0m \u001b[38;5;28;01mimport\u001b[39;00m \u001b[38;5;21;01mseaborn\u001b[39;00m \u001b[38;5;28;01mas\u001b[39;00m \u001b[38;5;21;01msb\u001b[39;00m \n",
      "\u001b[0;31mModuleNotFoundError\u001b[0m: No module named 'pandas'"
     ]
    }
   ],
   "source": [
    "# import python libraries\n",
    "import pandas as pd\n",
    "import matplotlib.pyplot as plt\n",
    "import seaborn as sb \n",
    "from sklearn.model_selection import train_test_split # split into training and testing"
   ]
  },
  {
   "cell_type": "code",
   "execution_count": null,
   "id": "8a7c0aed",
   "metadata": {},
   "outputs": [],
   "source": [
    "# read in data from github raw\n",
    "in_df = pd.read_csv(\"https://delvex-software-center.s3.ap-south-1.amazonaws.com/USGS/all_month.csv\")"
   ]
  },
  {
   "cell_type": "code",
   "execution_count": null,
   "id": "f19411d2",
   "metadata": {},
   "outputs": [],
   "source": [
    "# separating data into input and output for regression\n",
    "# .values makes in an npy array\n",
    "features = ['latitude', 'longitude', 'depth']\n",
    "label = 'mag'"
   ]
  },
  {
   "cell_type": "code",
   "execution_count": null,
   "id": "d469fde2",
   "metadata": {},
   "outputs": [],
   "source": [
    "in_df = in_df.dropna(subset = [label]) # drop an na from labels"
   ]
  },
  {
   "cell_type": "code",
   "execution_count": null,
   "id": "22331f41",
   "metadata": {},
   "outputs": [],
   "source": [
    "# doing in features - fill in NA \n",
    "for col in features:\n",
    "    in_df[col] = in_df[col].fillna(in_df[col].median())"
   ]
  },
  {
   "cell_type": "code",
   "execution_count": null,
   "id": "a4bbb11f",
   "metadata": {},
   "outputs": [],
   "source": [
    "# reconsidering features and labels \n",
    "\n",
    "feature_data = in_df[features]\n",
    "label_data = in_df[label]\n",
    "feature_data"
   ]
  },
  {
   "cell_type": "code",
   "execution_count": null,
   "id": "26c8cb6e",
   "metadata": {},
   "outputs": [],
   "source": [
    "# split into training and testing dfeature_data\n",
    "# assign into 4 variables on left side of =\n",
    "training_ft, testing_ft, training_lb, testing_lb = train_test_split(feature_data, label_data, test_size=0.2, random_state=100) # 0.2 means 20% goes to testing, 80% is used for training. set same # to get same splits\n"
   ]
  },
  {
   "cell_type": "code",
   "execution_count": null,
   "id": "d8ba94a5",
   "metadata": {},
   "outputs": [],
   "source": []
  },
  {
   "cell_type": "code",
   "execution_count": null,
   "id": "22c7e77c",
   "metadata": {},
   "outputs": [],
   "source": []
  }
 ],
 "metadata": {
  "kernelspec": {
   "display_name": "Python 3 (ipykernel)",
   "language": "python",
   "name": "python3"
  },
  "language_info": {
   "codemirror_mode": {
    "name": "ipython",
    "version": 3
   },
   "file_extension": ".py",
   "mimetype": "text/x-python",
   "name": "python",
   "nbconvert_exporter": "python",
   "pygments_lexer": "ipython3",
   "version": "3.12.3"
  }
 },
 "nbformat": 4,
 "nbformat_minor": 5
}
