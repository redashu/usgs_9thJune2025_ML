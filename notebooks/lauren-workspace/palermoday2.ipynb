{
 "cells": [
  {
   "cell_type": "code",
   "execution_count": 2,
   "id": "2ad26b8f-44fe-4ebf-a35c-61afac789b3c",
   "metadata": {},
   "outputs": [],
   "source": [
    "!source ./bin/activate\n",
    "#using explaination point because code isn't in python"
   ]
  },
  {
   "cell_type": "code",
   "execution_count": 35,
   "id": "008e07d7-a645-4192-a384-cb6c22208678",
   "metadata": {},
   "outputs": [],
   "source": [
    "import pandas as pd\n",
    "from sklearn.impute import SimpleImputer # fixiing missing values\n",
    "import numpy as np\n",
    "from sklearn.preprocessing import LabelEncoder\n",
    "from sklearn.compose import ColumnTransformer\n",
    "from sklearn.preprocessing import OneHotEncoder\n",
    "from sklearn.model_selection import train_test_split\n",
    "#calling DebcisionTree classifier\n",
    "from sklearn.tree import DecisionTreeClassifier\n",
    "from sklearn.metrics import accuracy_score , confusion_matrix\n",
    "import matplotlib.pyplot as plt \n",
    "from sklearn.tree import plot_tree"
   ]
  },
  {
   "cell_type": "code",
   "execution_count": 4,
   "id": "5cd7cd0a-4901-4851-b776-a1d32920a80a",
   "metadata": {},
   "outputs": [],
   "source": [
    "df = pd.read_csv('https://raw.githubusercontent.com/redashu/Datasets/refs/heads/master/data_preprocess1.csv')"
   ]
  },
  {
   "cell_type": "code",
   "execution_count": 5,
   "id": "18bc133c-638d-4838-81b0-bfaa25ad71ff",
   "metadata": {},
   "outputs": [
    {
     "name": "stdout",
     "output_type": "stream",
     "text": [
      "    Country   Age   Salary Purchased\n",
      "0    France  44.0  72000.0        No\n",
      "1     Spain  27.0  48000.0       Yes\n",
      "2   Germany  30.0  54000.0        No\n",
      "3     Spain  38.0  61000.0        No\n",
      "4   Germany  40.0      NaN       Yes\n",
      "5    France  35.0  58000.0       Yes\n",
      "6     Spain   NaN  52000.0        No\n",
      "7    France  48.0  79000.0       Yes\n",
      "8   Germany  50.0  83000.0        No\n",
      "9    France  37.0  67000.0       Yes\n",
      "10  Germany  28.0  49000.0       Yes\n",
      "11   France  42.0  75000.0        No\n",
      "12    Spain  33.0  56000.0       Yes\n",
      "13  Germany  45.0  77000.0        No\n",
      "14   France  29.0  51000.0       Yes\n",
      "15    Spain  51.0  85000.0        No\n",
      "16  Germany  36.0      NaN        No\n",
      "17   France  31.0  55000.0        No\n",
      "18    Spain  39.0  63000.0       Yes\n",
      "19  Germany  47.0  80000.0       Yes\n",
      "20   France  26.0  47000.0        No\n",
      "21    Spain  32.0  53000.0        No\n",
      "22  Germany  41.0  71000.0       Yes\n",
      "23   France  49.0  82000.0        No\n",
      "24    Spain  34.0  57000.0       Yes\n",
      "25  Germany  43.0  74000.0        No\n",
      "26   France  52.0  88000.0       Yes\n",
      "27    Spain  46.0  78000.0        No\n",
      "28  Germany  25.0  45000.0       Yes\n",
      "29   France  53.0  90000.0        No\n"
     ]
    }
   ],
   "source": [
    "print(df)"
   ]
  },
  {
   "cell_type": "code",
   "execution_count": 6,
   "id": "76d4f112-57d5-4492-8d97-ff42c8b8fa92",
   "metadata": {},
   "outputs": [
    {
     "name": "stdout",
     "output_type": "stream",
     "text": [
      "<class 'pandas.core.frame.DataFrame'>\n",
      "RangeIndex: 30 entries, 0 to 29\n",
      "Data columns (total 4 columns):\n",
      " #   Column     Non-Null Count  Dtype  \n",
      "---  ------     --------------  -----  \n",
      " 0   Country    30 non-null     object \n",
      " 1   Age        29 non-null     float64\n",
      " 2   Salary     28 non-null     float64\n",
      " 3   Purchased  30 non-null     object \n",
      "dtypes: float64(2), object(2)\n",
      "memory usage: 1.1+ KB\n"
     ]
    }
   ],
   "source": [
    "df.info()"
   ]
  },
  {
   "cell_type": "code",
   "execution_count": 7,
   "id": "bfb4fba3-5dba-4fbd-ab93-a621d1ae64a9",
   "metadata": {},
   "outputs": [
    {
     "data": {
      "text/html": [
       "<div>\n",
       "<style scoped>\n",
       "    .dataframe tbody tr th:only-of-type {\n",
       "        vertical-align: middle;\n",
       "    }\n",
       "\n",
       "    .dataframe tbody tr th {\n",
       "        vertical-align: top;\n",
       "    }\n",
       "\n",
       "    .dataframe thead th {\n",
       "        text-align: right;\n",
       "    }\n",
       "</style>\n",
       "<table border=\"1\" class=\"dataframe\">\n",
       "  <thead>\n",
       "    <tr style=\"text-align: right;\">\n",
       "      <th></th>\n",
       "      <th>Country</th>\n",
       "      <th>Age</th>\n",
       "      <th>Salary</th>\n",
       "      <th>Purchased</th>\n",
       "    </tr>\n",
       "  </thead>\n",
       "  <tbody>\n",
       "    <tr>\n",
       "      <th>0</th>\n",
       "      <td>France</td>\n",
       "      <td>44.0</td>\n",
       "      <td>72000.0</td>\n",
       "      <td>No</td>\n",
       "    </tr>\n",
       "    <tr>\n",
       "      <th>1</th>\n",
       "      <td>Spain</td>\n",
       "      <td>27.0</td>\n",
       "      <td>48000.0</td>\n",
       "      <td>Yes</td>\n",
       "    </tr>\n",
       "    <tr>\n",
       "      <th>2</th>\n",
       "      <td>Germany</td>\n",
       "      <td>30.0</td>\n",
       "      <td>54000.0</td>\n",
       "      <td>No</td>\n",
       "    </tr>\n",
       "    <tr>\n",
       "      <th>3</th>\n",
       "      <td>Spain</td>\n",
       "      <td>38.0</td>\n",
       "      <td>61000.0</td>\n",
       "      <td>No</td>\n",
       "    </tr>\n",
       "    <tr>\n",
       "      <th>4</th>\n",
       "      <td>Germany</td>\n",
       "      <td>40.0</td>\n",
       "      <td>NaN</td>\n",
       "      <td>Yes</td>\n",
       "    </tr>\n",
       "  </tbody>\n",
       "</table>\n",
       "</div>"
      ],
      "text/plain": [
       "   Country   Age   Salary Purchased\n",
       "0   France  44.0  72000.0        No\n",
       "1    Spain  27.0  48000.0       Yes\n",
       "2  Germany  30.0  54000.0        No\n",
       "3    Spain  38.0  61000.0        No\n",
       "4  Germany  40.0      NaN       Yes"
      ]
     },
     "execution_count": 7,
     "metadata": {},
     "output_type": "execute_result"
    }
   ],
   "source": [
    "df.head()\n",
    "#top 5 rows"
   ]
  },
  {
   "cell_type": "code",
   "execution_count": 8,
   "id": "480540b4-5678-4de7-9bea-ae31afeba97b",
   "metadata": {},
   "outputs": [
    {
     "data": {
      "text/html": [
       "<div>\n",
       "<style scoped>\n",
       "    .dataframe tbody tr th:only-of-type {\n",
       "        vertical-align: middle;\n",
       "    }\n",
       "\n",
       "    .dataframe tbody tr th {\n",
       "        vertical-align: top;\n",
       "    }\n",
       "\n",
       "    .dataframe thead th {\n",
       "        text-align: right;\n",
       "    }\n",
       "</style>\n",
       "<table border=\"1\" class=\"dataframe\">\n",
       "  <thead>\n",
       "    <tr style=\"text-align: right;\">\n",
       "      <th></th>\n",
       "      <th>Country</th>\n",
       "      <th>Age</th>\n",
       "      <th>Salary</th>\n",
       "      <th>Purchased</th>\n",
       "    </tr>\n",
       "  </thead>\n",
       "  <tbody>\n",
       "    <tr>\n",
       "      <th>25</th>\n",
       "      <td>Germany</td>\n",
       "      <td>43.0</td>\n",
       "      <td>74000.0</td>\n",
       "      <td>No</td>\n",
       "    </tr>\n",
       "    <tr>\n",
       "      <th>26</th>\n",
       "      <td>France</td>\n",
       "      <td>52.0</td>\n",
       "      <td>88000.0</td>\n",
       "      <td>Yes</td>\n",
       "    </tr>\n",
       "    <tr>\n",
       "      <th>27</th>\n",
       "      <td>Spain</td>\n",
       "      <td>46.0</td>\n",
       "      <td>78000.0</td>\n",
       "      <td>No</td>\n",
       "    </tr>\n",
       "    <tr>\n",
       "      <th>28</th>\n",
       "      <td>Germany</td>\n",
       "      <td>25.0</td>\n",
       "      <td>45000.0</td>\n",
       "      <td>Yes</td>\n",
       "    </tr>\n",
       "    <tr>\n",
       "      <th>29</th>\n",
       "      <td>France</td>\n",
       "      <td>53.0</td>\n",
       "      <td>90000.0</td>\n",
       "      <td>No</td>\n",
       "    </tr>\n",
       "  </tbody>\n",
       "</table>\n",
       "</div>"
      ],
      "text/plain": [
       "    Country   Age   Salary Purchased\n",
       "25  Germany  43.0  74000.0        No\n",
       "26   France  52.0  88000.0       Yes\n",
       "27    Spain  46.0  78000.0        No\n",
       "28  Germany  25.0  45000.0       Yes\n",
       "29   France  53.0  90000.0        No"
      ]
     },
     "execution_count": 8,
     "metadata": {},
     "output_type": "execute_result"
    }
   ],
   "source": [
    "df.tail()\n",
    "#bottom 5 rows"
   ]
  },
  {
   "cell_type": "code",
   "execution_count": 9,
   "id": "dcf75540-bb86-4766-a431-cd209d8efced",
   "metadata": {},
   "outputs": [
    {
     "data": {
      "text/plain": [
       "0     44.0\n",
       "1     27.0\n",
       "2     30.0\n",
       "3     38.0\n",
       "4     40.0\n",
       "5     35.0\n",
       "6      NaN\n",
       "7     48.0\n",
       "8     50.0\n",
       "9     37.0\n",
       "10    28.0\n",
       "11    42.0\n",
       "12    33.0\n",
       "13    45.0\n",
       "14    29.0\n",
       "15    51.0\n",
       "16    36.0\n",
       "17    31.0\n",
       "18    39.0\n",
       "19    47.0\n",
       "20    26.0\n",
       "21    32.0\n",
       "22    41.0\n",
       "23    49.0\n",
       "24    34.0\n",
       "25    43.0\n",
       "26    52.0\n",
       "27    46.0\n",
       "28    25.0\n",
       "29    53.0\n",
       "Name: Age, dtype: float64"
      ]
     },
     "execution_count": 9,
     "metadata": {},
     "output_type": "execute_result"
    }
   ],
   "source": [
    "df['Age']\n",
    "#access specific column of data"
   ]
  },
  {
   "cell_type": "code",
   "execution_count": 10,
   "id": "603dafc7-2945-4af4-a952-73487ab8f4cd",
   "metadata": {},
   "outputs": [
    {
     "data": {
      "text/html": [
       "<div>\n",
       "<style scoped>\n",
       "    .dataframe tbody tr th:only-of-type {\n",
       "        vertical-align: middle;\n",
       "    }\n",
       "\n",
       "    .dataframe tbody tr th {\n",
       "        vertical-align: top;\n",
       "    }\n",
       "\n",
       "    .dataframe thead th {\n",
       "        text-align: right;\n",
       "    }\n",
       "</style>\n",
       "<table border=\"1\" class=\"dataframe\">\n",
       "  <thead>\n",
       "    <tr style=\"text-align: right;\">\n",
       "      <th></th>\n",
       "      <th>Age</th>\n",
       "      <th>Salary</th>\n",
       "    </tr>\n",
       "  </thead>\n",
       "  <tbody>\n",
       "    <tr>\n",
       "      <th>0</th>\n",
       "      <td>44.0</td>\n",
       "      <td>72000.0</td>\n",
       "    </tr>\n",
       "    <tr>\n",
       "      <th>1</th>\n",
       "      <td>27.0</td>\n",
       "      <td>48000.0</td>\n",
       "    </tr>\n",
       "    <tr>\n",
       "      <th>2</th>\n",
       "      <td>30.0</td>\n",
       "      <td>54000.0</td>\n",
       "    </tr>\n",
       "    <tr>\n",
       "      <th>3</th>\n",
       "      <td>38.0</td>\n",
       "      <td>61000.0</td>\n",
       "    </tr>\n",
       "    <tr>\n",
       "      <th>4</th>\n",
       "      <td>40.0</td>\n",
       "      <td>NaN</td>\n",
       "    </tr>\n",
       "    <tr>\n",
       "      <th>5</th>\n",
       "      <td>35.0</td>\n",
       "      <td>58000.0</td>\n",
       "    </tr>\n",
       "    <tr>\n",
       "      <th>6</th>\n",
       "      <td>NaN</td>\n",
       "      <td>52000.0</td>\n",
       "    </tr>\n",
       "    <tr>\n",
       "      <th>7</th>\n",
       "      <td>48.0</td>\n",
       "      <td>79000.0</td>\n",
       "    </tr>\n",
       "    <tr>\n",
       "      <th>8</th>\n",
       "      <td>50.0</td>\n",
       "      <td>83000.0</td>\n",
       "    </tr>\n",
       "    <tr>\n",
       "      <th>9</th>\n",
       "      <td>37.0</td>\n",
       "      <td>67000.0</td>\n",
       "    </tr>\n",
       "    <tr>\n",
       "      <th>10</th>\n",
       "      <td>28.0</td>\n",
       "      <td>49000.0</td>\n",
       "    </tr>\n",
       "    <tr>\n",
       "      <th>11</th>\n",
       "      <td>42.0</td>\n",
       "      <td>75000.0</td>\n",
       "    </tr>\n",
       "    <tr>\n",
       "      <th>12</th>\n",
       "      <td>33.0</td>\n",
       "      <td>56000.0</td>\n",
       "    </tr>\n",
       "    <tr>\n",
       "      <th>13</th>\n",
       "      <td>45.0</td>\n",
       "      <td>77000.0</td>\n",
       "    </tr>\n",
       "    <tr>\n",
       "      <th>14</th>\n",
       "      <td>29.0</td>\n",
       "      <td>51000.0</td>\n",
       "    </tr>\n",
       "    <tr>\n",
       "      <th>15</th>\n",
       "      <td>51.0</td>\n",
       "      <td>85000.0</td>\n",
       "    </tr>\n",
       "    <tr>\n",
       "      <th>16</th>\n",
       "      <td>36.0</td>\n",
       "      <td>NaN</td>\n",
       "    </tr>\n",
       "    <tr>\n",
       "      <th>17</th>\n",
       "      <td>31.0</td>\n",
       "      <td>55000.0</td>\n",
       "    </tr>\n",
       "    <tr>\n",
       "      <th>18</th>\n",
       "      <td>39.0</td>\n",
       "      <td>63000.0</td>\n",
       "    </tr>\n",
       "    <tr>\n",
       "      <th>19</th>\n",
       "      <td>47.0</td>\n",
       "      <td>80000.0</td>\n",
       "    </tr>\n",
       "    <tr>\n",
       "      <th>20</th>\n",
       "      <td>26.0</td>\n",
       "      <td>47000.0</td>\n",
       "    </tr>\n",
       "    <tr>\n",
       "      <th>21</th>\n",
       "      <td>32.0</td>\n",
       "      <td>53000.0</td>\n",
       "    </tr>\n",
       "    <tr>\n",
       "      <th>22</th>\n",
       "      <td>41.0</td>\n",
       "      <td>71000.0</td>\n",
       "    </tr>\n",
       "    <tr>\n",
       "      <th>23</th>\n",
       "      <td>49.0</td>\n",
       "      <td>82000.0</td>\n",
       "    </tr>\n",
       "    <tr>\n",
       "      <th>24</th>\n",
       "      <td>34.0</td>\n",
       "      <td>57000.0</td>\n",
       "    </tr>\n",
       "    <tr>\n",
       "      <th>25</th>\n",
       "      <td>43.0</td>\n",
       "      <td>74000.0</td>\n",
       "    </tr>\n",
       "    <tr>\n",
       "      <th>26</th>\n",
       "      <td>52.0</td>\n",
       "      <td>88000.0</td>\n",
       "    </tr>\n",
       "    <tr>\n",
       "      <th>27</th>\n",
       "      <td>46.0</td>\n",
       "      <td>78000.0</td>\n",
       "    </tr>\n",
       "    <tr>\n",
       "      <th>28</th>\n",
       "      <td>25.0</td>\n",
       "      <td>45000.0</td>\n",
       "    </tr>\n",
       "    <tr>\n",
       "      <th>29</th>\n",
       "      <td>53.0</td>\n",
       "      <td>90000.0</td>\n",
       "    </tr>\n",
       "  </tbody>\n",
       "</table>\n",
       "</div>"
      ],
      "text/plain": [
       "     Age   Salary\n",
       "0   44.0  72000.0\n",
       "1   27.0  48000.0\n",
       "2   30.0  54000.0\n",
       "3   38.0  61000.0\n",
       "4   40.0      NaN\n",
       "5   35.0  58000.0\n",
       "6    NaN  52000.0\n",
       "7   48.0  79000.0\n",
       "8   50.0  83000.0\n",
       "9   37.0  67000.0\n",
       "10  28.0  49000.0\n",
       "11  42.0  75000.0\n",
       "12  33.0  56000.0\n",
       "13  45.0  77000.0\n",
       "14  29.0  51000.0\n",
       "15  51.0  85000.0\n",
       "16  36.0      NaN\n",
       "17  31.0  55000.0\n",
       "18  39.0  63000.0\n",
       "19  47.0  80000.0\n",
       "20  26.0  47000.0\n",
       "21  32.0  53000.0\n",
       "22  41.0  71000.0\n",
       "23  49.0  82000.0\n",
       "24  34.0  57000.0\n",
       "25  43.0  74000.0\n",
       "26  52.0  88000.0\n",
       "27  46.0  78000.0\n",
       "28  25.0  45000.0\n",
       "29  53.0  90000.0"
      ]
     },
     "execution_count": 10,
     "metadata": {},
     "output_type": "execute_result"
    }
   ],
   "source": [
    "df[['Age','Salary']]"
   ]
  },
  {
   "cell_type": "code",
   "execution_count": 11,
   "id": "88a29a36-1393-495d-8349-7bcce3835c9f",
   "metadata": {},
   "outputs": [
    {
     "data": {
      "text/html": [
       "<div>\n",
       "<style scoped>\n",
       "    .dataframe tbody tr th:only-of-type {\n",
       "        vertical-align: middle;\n",
       "    }\n",
       "\n",
       "    .dataframe tbody tr th {\n",
       "        vertical-align: top;\n",
       "    }\n",
       "\n",
       "    .dataframe thead th {\n",
       "        text-align: right;\n",
       "    }\n",
       "</style>\n",
       "<table border=\"1\" class=\"dataframe\">\n",
       "  <thead>\n",
       "    <tr style=\"text-align: right;\">\n",
       "      <th></th>\n",
       "      <th>Country</th>\n",
       "      <th>Age</th>\n",
       "    </tr>\n",
       "  </thead>\n",
       "  <tbody>\n",
       "    <tr>\n",
       "      <th>0</th>\n",
       "      <td>France</td>\n",
       "      <td>44.0</td>\n",
       "    </tr>\n",
       "    <tr>\n",
       "      <th>1</th>\n",
       "      <td>Spain</td>\n",
       "      <td>27.0</td>\n",
       "    </tr>\n",
       "    <tr>\n",
       "      <th>2</th>\n",
       "      <td>Germany</td>\n",
       "      <td>30.0</td>\n",
       "    </tr>\n",
       "    <tr>\n",
       "      <th>3</th>\n",
       "      <td>Spain</td>\n",
       "      <td>38.0</td>\n",
       "    </tr>\n",
       "    <tr>\n",
       "      <th>4</th>\n",
       "      <td>Germany</td>\n",
       "      <td>40.0</td>\n",
       "    </tr>\n",
       "    <tr>\n",
       "      <th>5</th>\n",
       "      <td>France</td>\n",
       "      <td>35.0</td>\n",
       "    </tr>\n",
       "    <tr>\n",
       "      <th>6</th>\n",
       "      <td>Spain</td>\n",
       "      <td>NaN</td>\n",
       "    </tr>\n",
       "    <tr>\n",
       "      <th>7</th>\n",
       "      <td>France</td>\n",
       "      <td>48.0</td>\n",
       "    </tr>\n",
       "    <tr>\n",
       "      <th>8</th>\n",
       "      <td>Germany</td>\n",
       "      <td>50.0</td>\n",
       "    </tr>\n",
       "    <tr>\n",
       "      <th>9</th>\n",
       "      <td>France</td>\n",
       "      <td>37.0</td>\n",
       "    </tr>\n",
       "    <tr>\n",
       "      <th>10</th>\n",
       "      <td>Germany</td>\n",
       "      <td>28.0</td>\n",
       "    </tr>\n",
       "    <tr>\n",
       "      <th>11</th>\n",
       "      <td>France</td>\n",
       "      <td>42.0</td>\n",
       "    </tr>\n",
       "    <tr>\n",
       "      <th>12</th>\n",
       "      <td>Spain</td>\n",
       "      <td>33.0</td>\n",
       "    </tr>\n",
       "    <tr>\n",
       "      <th>13</th>\n",
       "      <td>Germany</td>\n",
       "      <td>45.0</td>\n",
       "    </tr>\n",
       "    <tr>\n",
       "      <th>14</th>\n",
       "      <td>France</td>\n",
       "      <td>29.0</td>\n",
       "    </tr>\n",
       "    <tr>\n",
       "      <th>15</th>\n",
       "      <td>Spain</td>\n",
       "      <td>51.0</td>\n",
       "    </tr>\n",
       "    <tr>\n",
       "      <th>16</th>\n",
       "      <td>Germany</td>\n",
       "      <td>36.0</td>\n",
       "    </tr>\n",
       "    <tr>\n",
       "      <th>17</th>\n",
       "      <td>France</td>\n",
       "      <td>31.0</td>\n",
       "    </tr>\n",
       "    <tr>\n",
       "      <th>18</th>\n",
       "      <td>Spain</td>\n",
       "      <td>39.0</td>\n",
       "    </tr>\n",
       "    <tr>\n",
       "      <th>19</th>\n",
       "      <td>Germany</td>\n",
       "      <td>47.0</td>\n",
       "    </tr>\n",
       "    <tr>\n",
       "      <th>20</th>\n",
       "      <td>France</td>\n",
       "      <td>26.0</td>\n",
       "    </tr>\n",
       "    <tr>\n",
       "      <th>21</th>\n",
       "      <td>Spain</td>\n",
       "      <td>32.0</td>\n",
       "    </tr>\n",
       "    <tr>\n",
       "      <th>22</th>\n",
       "      <td>Germany</td>\n",
       "      <td>41.0</td>\n",
       "    </tr>\n",
       "    <tr>\n",
       "      <th>23</th>\n",
       "      <td>France</td>\n",
       "      <td>49.0</td>\n",
       "    </tr>\n",
       "    <tr>\n",
       "      <th>24</th>\n",
       "      <td>Spain</td>\n",
       "      <td>34.0</td>\n",
       "    </tr>\n",
       "    <tr>\n",
       "      <th>25</th>\n",
       "      <td>Germany</td>\n",
       "      <td>43.0</td>\n",
       "    </tr>\n",
       "    <tr>\n",
       "      <th>26</th>\n",
       "      <td>France</td>\n",
       "      <td>52.0</td>\n",
       "    </tr>\n",
       "    <tr>\n",
       "      <th>27</th>\n",
       "      <td>Spain</td>\n",
       "      <td>46.0</td>\n",
       "    </tr>\n",
       "    <tr>\n",
       "      <th>28</th>\n",
       "      <td>Germany</td>\n",
       "      <td>25.0</td>\n",
       "    </tr>\n",
       "    <tr>\n",
       "      <th>29</th>\n",
       "      <td>France</td>\n",
       "      <td>53.0</td>\n",
       "    </tr>\n",
       "  </tbody>\n",
       "</table>\n",
       "</div>"
      ],
      "text/plain": [
       "    Country   Age\n",
       "0    France  44.0\n",
       "1     Spain  27.0\n",
       "2   Germany  30.0\n",
       "3     Spain  38.0\n",
       "4   Germany  40.0\n",
       "5    France  35.0\n",
       "6     Spain   NaN\n",
       "7    France  48.0\n",
       "8   Germany  50.0\n",
       "9    France  37.0\n",
       "10  Germany  28.0\n",
       "11   France  42.0\n",
       "12    Spain  33.0\n",
       "13  Germany  45.0\n",
       "14   France  29.0\n",
       "15    Spain  51.0\n",
       "16  Germany  36.0\n",
       "17   France  31.0\n",
       "18    Spain  39.0\n",
       "19  Germany  47.0\n",
       "20   France  26.0\n",
       "21    Spain  32.0\n",
       "22  Germany  41.0\n",
       "23   France  49.0\n",
       "24    Spain  34.0\n",
       "25  Germany  43.0\n",
       "26   France  52.0\n",
       "27    Spain  46.0\n",
       "28  Germany  25.0\n",
       "29   France  53.0"
      ]
     },
     "execution_count": 11,
     "metadata": {},
     "output_type": "execute_result"
    }
   ],
   "source": [
    "#using data frame iloc\n",
    "\n",
    "df.iloc[:,0:2]"
   ]
  },
  {
   "cell_type": "code",
   "execution_count": 12,
   "id": "7e528b87-2980-4148-bc44-a11bb44bbd88",
   "metadata": {},
   "outputs": [],
   "source": [
    "#seperating data into input and output\n",
    "\n",
    "input_features = df.iloc[:,0:3].values\n",
    "label = df.iloc[:,-1].values"
   ]
  },
  {
   "cell_type": "code",
   "execution_count": 13,
   "id": "439efb84-71ac-4f06-8237-071fc6e70dff",
   "metadata": {},
   "outputs": [
    {
     "data": {
      "text/plain": [
       "array(['No', 'Yes', 'No', 'No', 'Yes', 'Yes', 'No', 'Yes', 'No', 'Yes',\n",
       "       'Yes', 'No', 'Yes', 'No', 'Yes', 'No', 'No', 'No', 'Yes', 'Yes',\n",
       "       'No', 'No', 'Yes', 'No', 'Yes', 'No', 'Yes', 'No', 'Yes', 'No'],\n",
       "      dtype=object)"
      ]
     },
     "execution_count": 13,
     "metadata": {},
     "output_type": "execute_result"
    }
   ],
   "source": [
    "label"
   ]
  },
  {
   "cell_type": "code",
   "execution_count": 14,
   "id": "9ddaa153-2d4d-452e-8158-6025207a9d0c",
   "metadata": {},
   "outputs": [],
   "source": [
    "#fixing age missing value\n",
    "\n",
    "lauren_impute = SimpleImputer(missing_values=np.nan,strategy='mean')"
   ]
  },
  {
   "cell_type": "raw",
   "id": "4d7d111a-0cdc-43f6-97f5-54c84356ec39",
   "metadata": {},
   "source": []
  },
  {
   "cell_type": "code",
   "execution_count": 15,
   "id": "5d944175-9cb4-4ecc-82f7-c84842a635dc",
   "metadata": {},
   "outputs": [],
   "source": [
    "lauren_impute.fit(input_features[:,1:3]) #calculating the missing values \n",
    "input_features[:,1:3] = lauren_impute.transform(input_features[:,1:3]) # making changes"
   ]
  },
  {
   "cell_type": "code",
   "execution_count": 16,
   "id": "7635d1d1-15b6-4fcf-9ef6-d80f04ef484b",
   "metadata": {},
   "outputs": [
    {
     "name": "stdout",
     "output_type": "stream",
     "text": [
      "[['France' 44.0 72000.0]\n",
      " ['Spain' 27.0 48000.0]\n",
      " ['Germany' 30.0 54000.0]\n",
      " ['Spain' 38.0 61000.0]\n",
      " ['Germany' 40.0 66071.42857142857]\n",
      " ['France' 35.0 58000.0]\n",
      " ['Spain' 39.0 52000.0]\n",
      " ['France' 48.0 79000.0]\n",
      " ['Germany' 50.0 83000.0]\n",
      " ['France' 37.0 67000.0]\n",
      " ['Germany' 28.0 49000.0]\n",
      " ['France' 42.0 75000.0]\n",
      " ['Spain' 33.0 56000.0]\n",
      " ['Germany' 45.0 77000.0]\n",
      " ['France' 29.0 51000.0]\n",
      " ['Spain' 51.0 85000.0]\n",
      " ['Germany' 36.0 66071.42857142857]\n",
      " ['France' 31.0 55000.0]\n",
      " ['Spain' 39.0 63000.0]\n",
      " ['Germany' 47.0 80000.0]\n",
      " ['France' 26.0 47000.0]\n",
      " ['Spain' 32.0 53000.0]\n",
      " ['Germany' 41.0 71000.0]\n",
      " ['France' 49.0 82000.0]\n",
      " ['Spain' 34.0 57000.0]\n",
      " ['Germany' 43.0 74000.0]\n",
      " ['France' 52.0 88000.0]\n",
      " ['Spain' 46.0 78000.0]\n",
      " ['Germany' 25.0 45000.0]\n",
      " ['France' 53.0 90000.0]]\n"
     ]
    }
   ],
   "source": [
    "print(input_features)"
   ]
  },
  {
   "cell_type": "code",
   "execution_count": 17,
   "id": "65f49ef0-fc69-4e22-9f55-059b2e0faeb5",
   "metadata": {},
   "outputs": [
    {
     "name": "stdout",
     "output_type": "stream",
     "text": [
      "[0 1 0 0 1 1 0 1 0 1 1 0 1 0 1 0 0 0 1 1 0 0 1 0 1 0 1 0 1 0]\n"
     ]
    }
   ],
   "source": [
    "# converting two values into 0 and ones\n",
    "le = LabelEncoder()\n",
    "label = le.fit_transform(label)\n",
    "print(label)"
   ]
  },
  {
   "cell_type": "code",
   "execution_count": 18,
   "id": "e4a12a68-f7dd-4e71-8411-c11915e3daa1",
   "metadata": {},
   "outputs": [],
   "source": [
    "# data preprocessing using categorical values\n",
    "ct=ColumnTransformer(transformers=[('encoder',OneHotEncoder(), [0])],remainder='passthrough')"
   ]
  },
  {
   "cell_type": "code",
   "execution_count": 19,
   "id": "5e8898ff-38f2-4750-9459-0035c048c725",
   "metadata": {},
   "outputs": [
    {
     "name": "stdout",
     "output_type": "stream",
     "text": [
      "[[1.0 0.0 0.0 44.0 72000.0]\n",
      " [0.0 0.0 1.0 27.0 48000.0]\n",
      " [0.0 1.0 0.0 30.0 54000.0]\n",
      " [0.0 0.0 1.0 38.0 61000.0]\n",
      " [0.0 1.0 0.0 40.0 66071.42857142857]\n",
      " [1.0 0.0 0.0 35.0 58000.0]\n",
      " [0.0 0.0 1.0 39.0 52000.0]\n",
      " [1.0 0.0 0.0 48.0 79000.0]\n",
      " [0.0 1.0 0.0 50.0 83000.0]\n",
      " [1.0 0.0 0.0 37.0 67000.0]\n",
      " [0.0 1.0 0.0 28.0 49000.0]\n",
      " [1.0 0.0 0.0 42.0 75000.0]\n",
      " [0.0 0.0 1.0 33.0 56000.0]\n",
      " [0.0 1.0 0.0 45.0 77000.0]\n",
      " [1.0 0.0 0.0 29.0 51000.0]\n",
      " [0.0 0.0 1.0 51.0 85000.0]\n",
      " [0.0 1.0 0.0 36.0 66071.42857142857]\n",
      " [1.0 0.0 0.0 31.0 55000.0]\n",
      " [0.0 0.0 1.0 39.0 63000.0]\n",
      " [0.0 1.0 0.0 47.0 80000.0]\n",
      " [1.0 0.0 0.0 26.0 47000.0]\n",
      " [0.0 0.0 1.0 32.0 53000.0]\n",
      " [0.0 1.0 0.0 41.0 71000.0]\n",
      " [1.0 0.0 0.0 49.0 82000.0]\n",
      " [0.0 0.0 1.0 34.0 57000.0]\n",
      " [0.0 1.0 0.0 43.0 74000.0]\n",
      " [1.0 0.0 0.0 52.0 88000.0]\n",
      " [0.0 0.0 1.0 46.0 78000.0]\n",
      " [0.0 1.0 0.0 25.0 45000.0]\n",
      " [1.0 0.0 0.0 53.0 90000.0]]\n"
     ]
    }
   ],
   "source": [
    "\n",
    "input_features = np.array(ct.fit_transform(input_features))\n",
    "print(input_features)"
   ]
  },
  {
   "cell_type": "code",
   "execution_count": 20,
   "id": "9b4378fa-fd48-417c-bd45-3e4210e92701",
   "metadata": {},
   "outputs": [],
   "source": [
    "# finally we have input and label - this one we can train to Machine Learning ALgo\n",
    "training_input,testing_input,train_label,test_label=train_test_split(input_features,label,test_size=0.1)\n",
    "# note test_size (0 to 1) ---- here 0.1 means 10% testing data size"
   ]
  },
  {
   "cell_type": "code",
   "execution_count": 21,
   "id": "984053e3-bf74-413b-ac83-cc34224bfd18",
   "metadata": {},
   "outputs": [
    {
     "name": "stdout",
     "output_type": "stream",
     "text": [
      "[[0.0 1.0 0.0 45.0 77000.0]\n",
      " [0.0 1.0 0.0 28.0 49000.0]\n",
      " [0.0 0.0 1.0 51.0 85000.0]\n",
      " [0.0 0.0 1.0 32.0 53000.0]\n",
      " [0.0 0.0 1.0 38.0 61000.0]\n",
      " [0.0 1.0 0.0 47.0 80000.0]\n",
      " [0.0 0.0 1.0 34.0 57000.0]\n",
      " [0.0 1.0 0.0 50.0 83000.0]\n",
      " [0.0 0.0 1.0 46.0 78000.0]\n",
      " [1.0 0.0 0.0 37.0 67000.0]\n",
      " [0.0 1.0 0.0 43.0 74000.0]\n",
      " [1.0 0.0 0.0 52.0 88000.0]\n",
      " [1.0 0.0 0.0 31.0 55000.0]\n",
      " [0.0 1.0 0.0 40.0 66071.42857142857]\n",
      " [1.0 0.0 0.0 48.0 79000.0]\n",
      " [0.0 1.0 0.0 41.0 71000.0]\n",
      " [1.0 0.0 0.0 26.0 47000.0]\n",
      " [1.0 0.0 0.0 49.0 82000.0]\n",
      " [0.0 1.0 0.0 30.0 54000.0]\n",
      " [1.0 0.0 0.0 44.0 72000.0]\n",
      " [1.0 0.0 0.0 53.0 90000.0]\n",
      " [0.0 1.0 0.0 25.0 45000.0]\n",
      " [1.0 0.0 0.0 29.0 51000.0]\n",
      " [1.0 0.0 0.0 42.0 75000.0]\n",
      " [0.0 0.0 1.0 39.0 63000.0]\n",
      " [1.0 0.0 0.0 35.0 58000.0]\n",
      " [0.0 0.0 1.0 33.0 56000.0]]\n"
     ]
    }
   ],
   "source": [
    "print(training_input)"
   ]
  },
  {
   "cell_type": "code",
   "execution_count": 25,
   "id": "6611302c-7fb3-443a-a7a0-e4a9077910e5",
   "metadata": {},
   "outputs": [],
   "source": [
    "classifier = DecisionTreeClassifier()\n",
    "#Calling decision tree classifier"
   ]
  },
  {
   "cell_type": "code",
   "execution_count": 28,
   "id": "d19631cb-3426-4d25-b2dd-a44a02e5ea22",
   "metadata": {},
   "outputs": [],
   "source": [
    "# TRaining classifier with the above preprocessed split data\n",
    "trained_model = classifier.fit(training_input,train_label)"
   ]
  },
  {
   "cell_type": "code",
   "execution_count": 29,
   "id": "46141311-e595-41ea-9a1b-d07666957c4d",
   "metadata": {},
   "outputs": [],
   "source": [
    "predicted_values = trained_model.predict(testing_input)"
   ]
  },
  {
   "cell_type": "code",
   "execution_count": 30,
   "id": "6e3cf112-17a3-4798-a1b9-5b08a81ff285",
   "metadata": {},
   "outputs": [
    {
     "name": "stdout",
     "output_type": "stream",
     "text": [
      "[1 1 0]\n"
     ]
    }
   ],
   "source": [
    "\n",
    "print(predicted_values)"
   ]
  },
  {
   "cell_type": "code",
   "execution_count": 31,
   "id": "34103306-16d9-4fe6-8b00-27dfbbb84184",
   "metadata": {},
   "outputs": [
    {
     "name": "stdout",
     "output_type": "stream",
     "text": [
      "[0 0 1]\n"
     ]
    }
   ],
   "source": [
    "#actual values\n",
    "print(test_label)"
   ]
  },
  {
   "cell_type": "code",
   "execution_count": 33,
   "id": "16799644-f8c7-47fe-9055-3087a1599126",
   "metadata": {},
   "outputs": [
    {
     "data": {
      "text/plain": [
       "0.0"
      ]
     },
     "execution_count": 33,
     "metadata": {},
     "output_type": "execute_result"
    }
   ],
   "source": [
    "# using accuracy score \n",
    "accuracy_score(test_label,predicted_values)\n",
    "\n",
    "# output going to come from 0 to 1\n",
    "# 0.66 means 66% accuracy score"
   ]
  },
  {
   "cell_type": "code",
   "execution_count": 36,
   "id": "affc5f26-d648-4d48-916b-94159e6cf522",
   "metadata": {},
   "outputs": [],
   "source": [
    "lauren_new_data = np.array([('Spain', '39', '51000')])"
   ]
  },
  {
   "cell_type": "code",
   "execution_count": 45,
   "id": "70f81d18-97a6-419c-888a-4632619f3177",
   "metadata": {},
   "outputs": [
    {
     "data": {
      "image/png": "[encoded data removed]",
      "text/plain": [
       "<Figure size 2000x1000 with 1 Axes>"
      ]
     },
     "metadata": {},
     "output_type": "display_data"
    }
   ],
   "source": [
    "plt.figure(figsize=(20,10))\n",
    "plot_tree(classifier,\n",
    "         feature_names=ct.get_feature_names_out(),\n",
    "         class_names=le.classes_,\n",
    "         filled=True,\n",
    "         fontsize=10,\n",
    "         rounded=True)\n",
    "plt.title('DecisionTree Visualization')\n",
    "plt.show()\n",
    "# we can use python to check decision tree graphx"
   ]
  },
  {
   "cell_type": "code",
   "execution_count": 37,
   "id": "9a48de77-1c6f-4d6d-8e11-bc39fc03402a",
   "metadata": {},
   "outputs": [
    {
     "data": {
      "text/plain": [
       "array(['No', 'Yes'], dtype=object)"
      ]
     },
     "execution_count": 37,
     "metadata": {},
     "output_type": "execute_result"
    }
   ],
   "source": [
    "# features and labels\n",
    "# printing names\n",
    "le.classes_"
   ]
  },
  {
   "cell_type": "code",
   "execution_count": 38,
   "id": "a4832c22-4858-4815-9ea2-fdc8c40eb29d",
   "metadata": {},
   "outputs": [
    {
     "data": {
      "text/plain": [
       "array(['encoder__x0_France', 'encoder__x0_Germany', 'encoder__x0_Spain',\n",
       "       'remainder__x1', 'remainder__x2'], dtype=object)"
      ]
     },
     "execution_count": 38,
     "metadata": {},
     "output_type": "execute_result"
    }
   ],
   "source": [
    "ct.get_feature_names_out()"
   ]
  },
  {
   "cell_type": "code",
   "execution_count": null,
   "id": "ca7f8b25-9d22-48f3-a1eb-991d484ec47e",
   "metadata": {},
   "outputs": [],
   "source": []
  }
 ],
 "metadata": {
  "kernelspec": {
   "display_name": "Python 3 (ipykernel)",
   "language": "python",
   "name": "python3"
  },
  "language_info": {
   "codemirror_mode": {
    "name": "ipython",
    "version": 3
   },
   "file_extension": ".py",
   "mimetype": "text/x-python",
   "name": "python",
   "nbconvert_exporter": "python",
   "pygments_lexer": "ipython3",
   "version": "3.12.3"
  }
 },
 "nbformat": 4,
 "nbformat_minor": 5
}
