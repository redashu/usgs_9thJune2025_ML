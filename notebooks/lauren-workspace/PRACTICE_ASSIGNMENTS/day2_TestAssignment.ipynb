{
 "cells": [
  {
   "cell_type": "code",
   "execution_count": 11,
   "id": "c0c84658-1e4a-4097-81b9-2234f7f70137",
   "metadata": {},
   "outputs": [],
   "source": [
    "\n",
    "import pandas as pd\n",
    "from sklearn.impute import SimpleImputer # fixiing missing values\n",
    "import numpy as np\n",
    "from sklearn.preprocessing import LabelEncoder\n",
    "from sklearn.compose import ColumnTransformer\n",
    "from sklearn.preprocessing import OneHotEncoder\n",
    "from sklearn.model_selection import train_test_split"
   ]
  },
  {
   "cell_type": "code",
   "execution_count": 9,
   "id": "aa814b28-ecb7-483d-bb28-8cb1e9667883",
   "metadata": {},
   "outputs": [],
   "source": [
    "df = pd.read_csv(\"all_month.csv\")\n",
    "\n"
   ]
  },
  {
   "cell_type": "code",
   "execution_count": 12,
   "id": "0b19815b-2469-47ce-8d1b-e1bd9efddb03",
   "metadata": {},
   "outputs": [
    {
     "data": {
      "text/html": [
       "<div>\n",
       "<style scoped>\n",
       "    .dataframe tbody tr th:only-of-type {\n",
       "        vertical-align: middle;\n",
       "    }\n",
       "\n",
       "    .dataframe tbody tr th {\n",
       "        vertical-align: top;\n",
       "    }\n",
       "\n",
       "    .dataframe thead th {\n",
       "        text-align: right;\n",
       "    }\n",
       "</style>\n",
       "<table border=\"1\" class=\"dataframe\">\n",
       "  <thead>\n",
       "    <tr style=\"text-align: right;\">\n",
       "      <th></th>\n",
       "      <th>time</th>\n",
       "      <th>latitude</th>\n",
       "    </tr>\n",
       "  </thead>\n",
       "  <tbody>\n",
       "    <tr>\n",
       "      <th>0</th>\n",
       "      <td>2025-04-03T03:16:50.230Z</td>\n",
       "      <td>38.840668</td>\n",
       "    </tr>\n",
       "    <tr>\n",
       "      <th>1</th>\n",
       "      <td>2025-04-03T03:08:03.540Z</td>\n",
       "      <td>61.556800</td>\n",
       "    </tr>\n",
       "    <tr>\n",
       "      <th>2</th>\n",
       "      <td>2025-04-03T02:59:56.724Z</td>\n",
       "      <td>61.789200</td>\n",
       "    </tr>\n",
       "    <tr>\n",
       "      <th>3</th>\n",
       "      <td>2025-04-03T02:54:35.248Z</td>\n",
       "      <td>60.081400</td>\n",
       "    </tr>\n",
       "    <tr>\n",
       "      <th>4</th>\n",
       "      <td>2025-04-03T02:41:42.280Z</td>\n",
       "      <td>35.639833</td>\n",
       "    </tr>\n",
       "    <tr>\n",
       "      <th>...</th>\n",
       "      <td>...</td>\n",
       "      <td>...</td>\n",
       "    </tr>\n",
       "    <tr>\n",
       "      <th>9588</th>\n",
       "      <td>2025-03-04T03:25:43.640Z</td>\n",
       "      <td>44.739000</td>\n",
       "    </tr>\n",
       "    <tr>\n",
       "      <th>9589</th>\n",
       "      <td>2025-03-04T03:24:58.760Z</td>\n",
       "      <td>37.428500</td>\n",
       "    </tr>\n",
       "    <tr>\n",
       "      <th>9590</th>\n",
       "      <td>2025-03-04T03:22:28.320Z</td>\n",
       "      <td>44.726000</td>\n",
       "    </tr>\n",
       "    <tr>\n",
       "      <th>9591</th>\n",
       "      <td>2025-03-04T03:20:13.493Z</td>\n",
       "      <td>-57.288500</td>\n",
       "    </tr>\n",
       "    <tr>\n",
       "      <th>9592</th>\n",
       "      <td>2025-03-04T03:18:45.450Z</td>\n",
       "      <td>39.360500</td>\n",
       "    </tr>\n",
       "  </tbody>\n",
       "</table>\n",
       "<p>9593 rows × 2 columns</p>\n",
       "</div>"
      ],
      "text/plain": [
       "                          time   latitude\n",
       "0     2025-04-03T03:16:50.230Z  38.840668\n",
       "1     2025-04-03T03:08:03.540Z  61.556800\n",
       "2     2025-04-03T02:59:56.724Z  61.789200\n",
       "3     2025-04-03T02:54:35.248Z  60.081400\n",
       "4     2025-04-03T02:41:42.280Z  35.639833\n",
       "...                        ...        ...\n",
       "9588  2025-03-04T03:25:43.640Z  44.739000\n",
       "9589  2025-03-04T03:24:58.760Z  37.428500\n",
       "9590  2025-03-04T03:22:28.320Z  44.726000\n",
       "9591  2025-03-04T03:20:13.493Z -57.288500\n",
       "9592  2025-03-04T03:18:45.450Z  39.360500\n",
       "\n",
       "[9593 rows x 2 columns]"
      ]
     },
     "execution_count": 12,
     "metadata": {},
     "output_type": "execute_result"
    }
   ],
   "source": [
    "df.iloc[:,0:2]"
   ]
  },
  {
   "cell_type": "code",
   "execution_count": 13,
   "id": "fa15778e-c7b3-4a53-af1e-a84f9992263e",
   "metadata": {},
   "outputs": [],
   "source": [
    "#seperating data into input and output\n",
    "\n",
    "input_features = df.iloc[:,1:4].values\n",
    "label = df.iloc[:,5].values"
   ]
  },
  {
   "cell_type": "code",
   "execution_count": 15,
   "id": "417d140e-a86b-4692-a1cf-375cb61cabfc",
   "metadata": {},
   "outputs": [
    {
     "name": "stdout",
     "output_type": "stream",
     "text": [
      "[[  38.84066772 -122.83433533    1.32000005]\n",
      " [  61.5568     -141.2716       13.4       ]\n",
      " [  61.7892     -149.6082       38.7       ]\n",
      " ...\n",
      " [  44.726      -111.12066667    2.38      ]\n",
      " [ -57.2885      147.3275       10.        ]\n",
      " [  39.3605     -111.1945       -0.61      ]]\n"
     ]
    }
   ],
   "source": [
    "print(input_features)"
   ]
  },
  {
   "cell_type": "code",
   "execution_count": 16,
   "id": "ecd3d6d0-fa5f-4b63-a92e-e97419d90b46",
   "metadata": {},
   "outputs": [],
   "source": [
    "#fixing age missing value\n",
    "\n",
    "lauren_impute = SimpleImputer(missing_values=np.nan,strategy='mean')"
   ]
  },
  {
   "cell_type": "code",
   "execution_count": 17,
   "id": "d3dc8129-e0be-448e-af01-84cda5acf04f",
   "metadata": {},
   "outputs": [],
   "source": [
    "lauren_impute.fit(input_features[:,1:4]) #calculating the missing values \n",
    "input_features[:, 1:4] = lauren_impute.transform(input_features[:, 1:4]) # making changes"
   ]
  },
  {
   "cell_type": "code",
   "execution_count": 20,
   "id": "3dd86335-a038-4d62-a2ff-03b2c0cf4426",
   "metadata": {},
   "outputs": [
    {
     "name": "stdout",
     "output_type": "stream",
     "text": [
      "[[  38.84066772 -122.83433533    1.32000005]\n",
      " [  61.5568     -141.2716       13.4       ]\n",
      " [  61.7892     -149.6082       38.7       ]\n",
      " ...\n",
      " [  44.726      -111.12066667    2.38      ]\n",
      " [ -57.2885      147.3275       10.        ]\n",
      " [  39.3605     -111.1945       -0.61      ]]\n"
     ]
    }
   ],
   "source": [
    "print(input_features)"
   ]
  },
  {
   "cell_type": "code",
   "execution_count": 21,
   "id": "a7070130-6de2-4843-8a25-80cdb2d0ec6f",
   "metadata": {},
   "outputs": [
    {
     "name": "stdout",
     "output_type": "stream",
     "text": [
      "[2 4 4 ... 2 0 2]\n"
     ]
    }
   ],
   "source": [
    "# converting two values into 0 and ones\n",
    "le = LabelEncoder()\n",
    "label = le.fit_transform(label)\n",
    "print(label)"
   ]
  },
  {
   "cell_type": "code",
   "execution_count": 22,
   "id": "238a914c-f011-4468-b5a4-e60550e6754b",
   "metadata": {},
   "outputs": [],
   "source": [
    "# data preprocessing using categorical values\n",
    "ct=ColumnTransformer(transformers=[('encoder',OneHotEncoder(), [0])],remainder='passthrough')"
   ]
  },
  {
   "cell_type": "code",
   "execution_count": 23,
   "id": "4f3b92b8-7de3-421c-ab0a-a4314038845f",
   "metadata": {},
   "outputs": [
    {
     "name": "stdout",
     "output_type": "stream",
     "text": [
      "<Compressed Sparse Row sparse matrix of dtype 'float64'\n",
      "\twith 28608 stored elements and shape (9593, 7961)>\n",
      "  Coords\tValues\n",
      "  (0, 4213)\t1.0\n",
      "  (0, 7959)\t-122.83433532715\n",
      "  (0, 7960)\t1.3200000524521\n",
      "  (1, 7232)\t1.0\n",
      "  (1, 7959)\t-141.2716\n",
      "  (1, 7960)\t13.4\n",
      "  (2, 7325)\t1.0\n",
      "  (2, 7959)\t-149.6082\n",
      "  (2, 7960)\t38.7\n",
      "  (3, 6443)\t1.0\n",
      "  (3, 7959)\t-152.5287\n",
      "  (3, 7960)\t97.8\n",
      "  (4, 2639)\t1.0\n",
      "  (4, 7959)\t-117.5485\n",
      "  (4, 7960)\t8.08\n",
      "  (5, 3920)\t1.0\n",
      "  (5, 7959)\t-122.8253326416\n",
      "  (5, 7960)\t1.710000038147\n",
      "  (6, 7901)\t1.0\n",
      "  (6, 7959)\t-148.1959\n",
      "  (6, 7960)\t2.3\n",
      "  (7, 1924)\t1.0\n",
      "  (7, 7959)\t-116.7048333\n",
      "  (7, 7960)\t12.83\n",
      "  (8, 2512)\t1.0\n",
      "  :\t:\n",
      "  (9584, 7960)\t3.45\n",
      "  (9585, 4827)\t1.0\n",
      "  (9585, 7959)\t-111.127\n",
      "  (9585, 7960)\t7.72\n",
      "  (9586, 6120)\t1.0\n",
      "  (9586, 7959)\t-155.37016666667\n",
      "  (9586, 7960)\t1.86\n",
      "  (9587, 4812)\t1.0\n",
      "  (9587, 7959)\t-111.119\n",
      "  (9587, 7960)\t2.72\n",
      "  (9588, 4822)\t1.0\n",
      "  (9588, 7959)\t-111.12333333333\n",
      "  (9588, 7960)\t7.15\n",
      "  (9589, 3283)\t1.0\n",
      "  (9589, 7959)\t-119.0185\n",
      "  (9589, 7960)\t3.69\n",
      "  (9590, 4811)\t1.0\n",
      "  (9590, 7959)\t-111.12066666667\n",
      "  (9590, 7960)\t2.38\n",
      "  (9591, 19)\t1.0\n",
      "  (9591, 7959)\t147.3275\n",
      "  (9591, 7960)\t10.0\n",
      "  (9592, 4411)\t1.0\n",
      "  (9592, 7959)\t-111.1945\n",
      "  (9592, 7960)\t-0.61\n"
     ]
    }
   ],
   "source": [
    "input_features = np.array(ct.fit_transform(input_features))\n",
    "print(input_features)"
   ]
  },
  {
   "cell_type": "code",
   "execution_count": 24,
   "id": "684d8a0b-761f-452d-9a69-770362a86276",
   "metadata": {},
   "outputs": [
    {
     "ename": "TypeError",
     "evalue": "Input should have at least 1 dimension i.e. satisfy `len(x.shape) > 0`, got scalar `array(<Compressed Sparse Row sparse matrix of dtype 'float64'\n\twith 28608 stored elements and shape (9593, 7961)>, dtype=object)` instead.",
     "output_type": "error",
     "traceback": [
      "\u001b[31m---------------------------------------------------------------------------\u001b[39m",
      "\u001b[31mTypeError\u001b[39m                                 Traceback (most recent call last)",
      "\u001b[36mCell\u001b[39m\u001b[36m \u001b[39m\u001b[32mIn[24]\u001b[39m\u001b[32m, line 2\u001b[39m\n\u001b[32m      1\u001b[39m \u001b[38;5;66;03m# finally we have input and label - this one we can train to Machine Learning ALgo\u001b[39;00m\n\u001b[32m----> \u001b[39m\u001b[32m2\u001b[39m training_input,testing_input,train_label,test_label=\u001b[43mtrain_test_split\u001b[49m\u001b[43m(\u001b[49m\u001b[43minput_features\u001b[49m\u001b[43m,\u001b[49m\u001b[43mlabel\u001b[49m\u001b[43m,\u001b[49m\u001b[43mtest_size\u001b[49m\u001b[43m=\u001b[49m\u001b[32;43m0.1\u001b[39;49m\u001b[43m)\u001b[49m\n\u001b[32m      3\u001b[39m \u001b[38;5;66;03m# note test_size (0 to 1) ---- here 0.1 means 10% testing data size\u001b[39;00m\n",
      "\u001b[36mFile \u001b[39m\u001b[32m~/usgs-ml/lib/python3.12/site-packages/sklearn/utils/_param_validation.py:218\u001b[39m, in \u001b[36mvalidate_params.<locals>.decorator.<locals>.wrapper\u001b[39m\u001b[34m(*args, **kwargs)\u001b[39m\n\u001b[32m    212\u001b[39m \u001b[38;5;28;01mtry\u001b[39;00m:\n\u001b[32m    213\u001b[39m     \u001b[38;5;28;01mwith\u001b[39;00m config_context(\n\u001b[32m    214\u001b[39m         skip_parameter_validation=(\n\u001b[32m    215\u001b[39m             prefer_skip_nested_validation \u001b[38;5;129;01mor\u001b[39;00m global_skip_validation\n\u001b[32m    216\u001b[39m         )\n\u001b[32m    217\u001b[39m     ):\n\u001b[32m--> \u001b[39m\u001b[32m218\u001b[39m         \u001b[38;5;28;01mreturn\u001b[39;00m \u001b[43mfunc\u001b[49m\u001b[43m(\u001b[49m\u001b[43m*\u001b[49m\u001b[43margs\u001b[49m\u001b[43m,\u001b[49m\u001b[43m \u001b[49m\u001b[43m*\u001b[49m\u001b[43m*\u001b[49m\u001b[43mkwargs\u001b[49m\u001b[43m)\u001b[49m\n\u001b[32m    219\u001b[39m \u001b[38;5;28;01mexcept\u001b[39;00m InvalidParameterError \u001b[38;5;28;01mas\u001b[39;00m e:\n\u001b[32m    220\u001b[39m     \u001b[38;5;66;03m# When the function is just a wrapper around an estimator, we allow\u001b[39;00m\n\u001b[32m    221\u001b[39m     \u001b[38;5;66;03m# the function to delegate validation to the estimator, but we replace\u001b[39;00m\n\u001b[32m    222\u001b[39m     \u001b[38;5;66;03m# the name of the estimator by the name of the function in the error\u001b[39;00m\n\u001b[32m    223\u001b[39m     \u001b[38;5;66;03m# message to avoid confusion.\u001b[39;00m\n\u001b[32m    224\u001b[39m     msg = re.sub(\n\u001b[32m    225\u001b[39m         \u001b[33mr\u001b[39m\u001b[33m\"\u001b[39m\u001b[33mparameter of \u001b[39m\u001b[33m\\\u001b[39m\u001b[33mw+ must be\u001b[39m\u001b[33m\"\u001b[39m,\n\u001b[32m    226\u001b[39m         \u001b[33mf\u001b[39m\u001b[33m\"\u001b[39m\u001b[33mparameter of \u001b[39m\u001b[38;5;132;01m{\u001b[39;00mfunc.\u001b[34m__qualname__\u001b[39m\u001b[38;5;132;01m}\u001b[39;00m\u001b[33m must be\u001b[39m\u001b[33m\"\u001b[39m,\n\u001b[32m    227\u001b[39m         \u001b[38;5;28mstr\u001b[39m(e),\n\u001b[32m    228\u001b[39m     )\n",
      "\u001b[36mFile \u001b[39m\u001b[32m~/usgs-ml/lib/python3.12/site-packages/sklearn/model_selection/_split.py:2916\u001b[39m, in \u001b[36mtrain_test_split\u001b[39m\u001b[34m(test_size, train_size, random_state, shuffle, stratify, *arrays)\u001b[39m\n\u001b[32m   2913\u001b[39m \u001b[38;5;28;01mif\u001b[39;00m n_arrays == \u001b[32m0\u001b[39m:\n\u001b[32m   2914\u001b[39m     \u001b[38;5;28;01mraise\u001b[39;00m \u001b[38;5;167;01mValueError\u001b[39;00m(\u001b[33m\"\u001b[39m\u001b[33mAt least one array required as input\u001b[39m\u001b[33m\"\u001b[39m)\n\u001b[32m-> \u001b[39m\u001b[32m2916\u001b[39m arrays = \u001b[43mindexable\u001b[49m\u001b[43m(\u001b[49m\u001b[43m*\u001b[49m\u001b[43marrays\u001b[49m\u001b[43m)\u001b[49m\n\u001b[32m   2918\u001b[39m n_samples = _num_samples(arrays[\u001b[32m0\u001b[39m])\n\u001b[32m   2919\u001b[39m n_train, n_test = _validate_shuffle_split(\n\u001b[32m   2920\u001b[39m     n_samples, test_size, train_size, default_test_size=\u001b[32m0.25\u001b[39m\n\u001b[32m   2921\u001b[39m )\n",
      "\u001b[36mFile \u001b[39m\u001b[32m~/usgs-ml/lib/python3.12/site-packages/sklearn/utils/validation.py:530\u001b[39m, in \u001b[36mindexable\u001b[39m\u001b[34m(*iterables)\u001b[39m\n\u001b[32m    500\u001b[39m \u001b[38;5;250m\u001b[39m\u001b[33;03m\"\"\"Make arrays indexable for cross-validation.\u001b[39;00m\n\u001b[32m    501\u001b[39m \n\u001b[32m    502\u001b[39m \u001b[33;03mChecks consistent length, passes through None, and ensures that everything\u001b[39;00m\n\u001b[32m   (...)\u001b[39m\u001b[32m    526\u001b[39m \u001b[33;03m[[1, 2, 3], array([2, 3, 4]), None, <...Sparse...dtype 'int64'...shape (3, 1)>]\u001b[39;00m\n\u001b[32m    527\u001b[39m \u001b[33;03m\"\"\"\u001b[39;00m\n\u001b[32m    529\u001b[39m result = [_make_indexable(X) \u001b[38;5;28;01mfor\u001b[39;00m X \u001b[38;5;129;01min\u001b[39;00m iterables]\n\u001b[32m--> \u001b[39m\u001b[32m530\u001b[39m \u001b[43mcheck_consistent_length\u001b[49m\u001b[43m(\u001b[49m\u001b[43m*\u001b[49m\u001b[43mresult\u001b[49m\u001b[43m)\u001b[49m\n\u001b[32m    531\u001b[39m \u001b[38;5;28;01mreturn\u001b[39;00m result\n",
      "\u001b[36mFile \u001b[39m\u001b[32m~/usgs-ml/lib/python3.12/site-packages/sklearn/utils/validation.py:471\u001b[39m, in \u001b[36mcheck_consistent_length\u001b[39m\u001b[34m(*arrays)\u001b[39m\n\u001b[32m    454\u001b[39m \u001b[38;5;28;01mdef\u001b[39;00m\u001b[38;5;250m \u001b[39m\u001b[34mcheck_consistent_length\u001b[39m(*arrays):\n\u001b[32m    455\u001b[39m \u001b[38;5;250m    \u001b[39m\u001b[33;03m\"\"\"Check that all arrays have consistent first dimensions.\u001b[39;00m\n\u001b[32m    456\u001b[39m \n\u001b[32m    457\u001b[39m \u001b[33;03m    Checks whether all objects in arrays have the same shape or length.\u001b[39;00m\n\u001b[32m   (...)\u001b[39m\u001b[32m    469\u001b[39m \u001b[33;03m    >>> check_consistent_length(a, b)\u001b[39;00m\n\u001b[32m    470\u001b[39m \u001b[33;03m    \"\"\"\u001b[39;00m\n\u001b[32m--> \u001b[39m\u001b[32m471\u001b[39m     lengths = [\u001b[43m_num_samples\u001b[49m\u001b[43m(\u001b[49m\u001b[43mX\u001b[49m\u001b[43m)\u001b[49m \u001b[38;5;28;01mfor\u001b[39;00m X \u001b[38;5;129;01min\u001b[39;00m arrays \u001b[38;5;28;01mif\u001b[39;00m X \u001b[38;5;129;01mis\u001b[39;00m \u001b[38;5;129;01mnot\u001b[39;00m \u001b[38;5;28;01mNone\u001b[39;00m]\n\u001b[32m    472\u001b[39m     \u001b[38;5;28;01mif\u001b[39;00m \u001b[38;5;28mlen\u001b[39m(\u001b[38;5;28mset\u001b[39m(lengths)) > \u001b[32m1\u001b[39m:\n\u001b[32m    473\u001b[39m         \u001b[38;5;28;01mraise\u001b[39;00m \u001b[38;5;167;01mValueError\u001b[39;00m(\n\u001b[32m    474\u001b[39m             \u001b[33m\"\u001b[39m\u001b[33mFound input variables with inconsistent numbers of samples: \u001b[39m\u001b[38;5;132;01m%r\u001b[39;00m\u001b[33m\"\u001b[39m\n\u001b[32m    475\u001b[39m             % [\u001b[38;5;28mint\u001b[39m(l) \u001b[38;5;28;01mfor\u001b[39;00m l \u001b[38;5;129;01min\u001b[39;00m lengths]\n\u001b[32m    476\u001b[39m         )\n",
      "\u001b[36mFile \u001b[39m\u001b[32m~/usgs-ml/lib/python3.12/site-packages/sklearn/utils/validation.py:399\u001b[39m, in \u001b[36m_num_samples\u001b[39m\u001b[34m(x)\u001b[39m\n\u001b[32m    397\u001b[39m \u001b[38;5;28;01mif\u001b[39;00m \u001b[38;5;28mhasattr\u001b[39m(x, \u001b[33m\"\u001b[39m\u001b[33mshape\u001b[39m\u001b[33m\"\u001b[39m) \u001b[38;5;129;01mand\u001b[39;00m x.shape \u001b[38;5;129;01mis\u001b[39;00m \u001b[38;5;129;01mnot\u001b[39;00m \u001b[38;5;28;01mNone\u001b[39;00m:\n\u001b[32m    398\u001b[39m     \u001b[38;5;28;01mif\u001b[39;00m \u001b[38;5;28mlen\u001b[39m(x.shape) == \u001b[32m0\u001b[39m:\n\u001b[32m--> \u001b[39m\u001b[32m399\u001b[39m         \u001b[38;5;28;01mraise\u001b[39;00m \u001b[38;5;167;01mTypeError\u001b[39;00m(\n\u001b[32m    400\u001b[39m             \u001b[33m\"\u001b[39m\u001b[33mInput should have at least 1 dimension i.e. satisfy \u001b[39m\u001b[33m\"\u001b[39m\n\u001b[32m    401\u001b[39m             \u001b[33mf\u001b[39m\u001b[33m\"\u001b[39m\u001b[33m`len(x.shape) > 0`, got scalar `\u001b[39m\u001b[38;5;132;01m{\u001b[39;00mx\u001b[38;5;132;01m!r}\u001b[39;00m\u001b[33m` instead.\u001b[39m\u001b[33m\"\u001b[39m\n\u001b[32m    402\u001b[39m         )\n\u001b[32m    403\u001b[39m     \u001b[38;5;66;03m# Check that shape is returning an integer or default to len\u001b[39;00m\n\u001b[32m    404\u001b[39m     \u001b[38;5;66;03m# Dask dataframes may not return numeric shape[0] value\u001b[39;00m\n\u001b[32m    405\u001b[39m     \u001b[38;5;28;01mif\u001b[39;00m \u001b[38;5;28misinstance\u001b[39m(x.shape[\u001b[32m0\u001b[39m], numbers.Integral):\n",
      "\u001b[31mTypeError\u001b[39m: Input should have at least 1 dimension i.e. satisfy `len(x.shape) > 0`, got scalar `array(<Compressed Sparse Row sparse matrix of dtype 'float64'\n\twith 28608 stored elements and shape (9593, 7961)>, dtype=object)` instead."
     ]
    }
   ],
   "source": [
    "# finally we have input and label - this one we can train to Machine Learning ALgo\n",
    "training_input,testing_input,train_label,test_label=train_test_split(input_features,label,test_size=0.1)\n",
    "# note test_size (0 to 1) ---- here 0.1 means 10% testing data size"
   ]
  },
  {
   "cell_type": "code",
   "execution_count": null,
   "id": "7abe6cd9-57c1-49b0-af70-e5daf1f45e09",
   "metadata": {},
   "outputs": [],
   "source": []
  }
 ],
 "metadata": {
  "kernelspec": {
   "display_name": "Python 3 (ipykernel)",
   "language": "python",
   "name": "python3"
  },
  "language_info": {
   "codemirror_mode": {
    "name": "ipython",
    "version": 3
   },
   "file_extension": ".py",
   "mimetype": "text/x-python",
   "name": "python",
   "nbconvert_exporter": "python",
   "pygments_lexer": "ipython3",
   "version": "3.12.3"
  }
 },
 "nbformat": 4,
 "nbformat_minor": 5
}
