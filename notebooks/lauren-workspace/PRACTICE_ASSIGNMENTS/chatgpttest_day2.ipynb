{
 "cells": [
  {
   "cell_type": "code",
   "execution_count": 1,
   "id": "d410b146-2f0f-46b7-a8f8-67148f2fc1b5",
   "metadata": {},
   "outputs": [],
   "source": [
    "from openai import OpenAI"
   ]
  },
  {
   "cell_type": "code",
   "execution_count": null,
   "id": "4a15051d-814f-4d48-82e9-c6a2b28d7ea8",
   "metadata": {},
   "outputs": [],
   "source": [
    "api_key1=\"\"\n",
    "\n",
    "# to have the api you need to pay for this but we are using his "
   ]
  },
  {
   "cell_type": "code",
   "execution_count": 3,
   "id": "0a0a7835-1576-426b-b889-9594e65fb084",
   "metadata": {},
   "outputs": [],
   "source": [
    "client = OpenAI(api_key=api_key1)"
   ]
  },
  {
   "cell_type": "code",
   "execution_count": 4,
   "id": "a3acbae4-7a3e-43e7-8181-f05d75ff4a78",
   "metadata": {},
   "outputs": [],
   "source": [
    "response = client.responses.create(\n",
    "    model=\"gpt-4.1\",\n",
    "    input=\"can you tell me a joke.\"\n",
    ")\n",
    "\n",
    "#this is the input, what we are giving"
   ]
  },
  {
   "cell_type": "code",
   "execution_count": 5,
   "id": "969da3fa-4029-4a67-a9ba-689b71a041eb",
   "metadata": {},
   "outputs": [
    {
     "name": "stdout",
     "output_type": "stream",
     "text": [
      "Sure! Here’s one for you:\n",
      "\n",
      "Why did the scarecrow win an award?\n",
      "\n",
      "Because he was outstanding in his field! 🌾😄\n"
     ]
    }
   ],
   "source": [
    "print(response.output_text)"
   ]
  },
  {
   "cell_type": "code",
   "execution_count": null,
   "id": "19931f2a-3f8a-4817-95b4-dd60b625723a",
   "metadata": {},
   "outputs": [],
   "source": []
  }
 ],
 "metadata": {
  "kernelspec": {
   "display_name": "Python 3 (ipykernel)",
   "language": "python",
   "name": "python3"
  },
  "language_info": {
   "codemirror_mode": {
    "name": "ipython",
    "version": 3
   },
   "file_extension": ".py",
   "mimetype": "text/x-python",
   "name": "python",
   "nbconvert_exporter": "python",
   "pygments_lexer": "ipython3",
   "version": "3.12.3"
  }
 },
 "nbformat": 4,
 "nbformat_minor": 5
}
