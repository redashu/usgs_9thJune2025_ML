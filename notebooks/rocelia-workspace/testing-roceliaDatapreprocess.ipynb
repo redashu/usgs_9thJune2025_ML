{
 "cells": [
  {
   "cell_type": "code",
   "execution_count": 2,
   "id": "5c8cb4e3-14ac-4066-a6db-7271e57a0fe3",
   "metadata": {},
   "outputs": [],
   "source": [
    "!source ./bin/activate"
   ]
  },
  {
   "cell_type": "code",
   "execution_count": 14,
   "id": "2324c2aa-a29b-486f-b49f-91f19c789cbe",
   "metadata": {},
   "outputs": [],
   "source": [
    "import pandas as pd"
   ]
  },
  {
   "cell_type": "code",
   "execution_count": 15,
   "id": "ba9b2f31-1160-42a1-a17a-04de2cdfe2ab",
   "metadata": {},
   "outputs": [
    {
     "name": "stdout",
     "output_type": "stream",
     "text": [
      "    Country   Age   Salary Purchased\n",
      "0    France  44.0  72000.0        No\n",
      "1     Spain  27.0  48000.0       Yes\n",
      "2   Germany  30.0  54000.0        No\n",
      "3     Spain  38.0  61000.0        No\n",
      "4   Germany  40.0      NaN       Yes\n",
      "5    France  35.0  58000.0       Yes\n",
      "6     Spain   NaN  52000.0        No\n",
      "7    France  48.0  79000.0       Yes\n",
      "8   Germany  50.0  83000.0        No\n",
      "9    France  37.0  67000.0       Yes\n",
      "10  Germany  28.0  49000.0       Yes\n",
      "11   France  42.0  75000.0        No\n",
      "12    Spain  33.0  56000.0       Yes\n",
      "13  Germany  45.0  77000.0        No\n",
      "14   France  29.0  51000.0       Yes\n",
      "15    Spain  51.0  85000.0        No\n",
      "16  Germany  36.0      NaN        No\n",
      "17   France  31.0  55000.0        No\n",
      "18    Spain  39.0  63000.0       Yes\n",
      "19  Germany  47.0  80000.0       Yes\n",
      "20   France  26.0  47000.0        No\n",
      "21    Spain  32.0  53000.0        No\n",
      "22  Germany  41.0  71000.0       Yes\n",
      "23   France  49.0  82000.0        No\n",
      "24    Spain  34.0  57000.0       Yes\n",
      "25  Germany  43.0  74000.0        No\n",
      "26   France  52.0  88000.0       Yes\n",
      "27    Spain  46.0  78000.0        No\n",
      "28  Germany  25.0  45000.0       Yes\n",
      "29   France  53.0  90000.0        No\n"
     ]
    }
   ],
   "source": [
    "url = 'https://raw.githubusercontent.com/redashu/Datasets/refs/heads/master/data_preprocess1.csv'\n",
    "df = pd.read_csv(url)\n",
    "print(df)"
   ]
  },
  {
   "cell_type": "code",
   "execution_count": null,
   "id": "755bbc89-0b6b-486f-8f72-f52c4212c674",
   "metadata": {},
   "outputs": [],
   "source": []
  }
 ],
 "metadata": {
  "kernelspec": {
   "display_name": "Python 3 (ipykernel)",
   "language": "python",
   "name": "python3"
  },
  "language_info": {
   "codemirror_mode": {
    "name": "ipython",
    "version": 3
   },
   "file_extension": ".py",
   "mimetype": "text/x-python",
   "name": "python",
   "nbconvert_exporter": "python",
   "pygments_lexer": "ipython3",
   "version": "3.12.3"
  }
 },
 "nbformat": 4,
 "nbformat_minor": 5
}
