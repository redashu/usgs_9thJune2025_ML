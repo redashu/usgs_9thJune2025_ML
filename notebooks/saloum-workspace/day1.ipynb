{
 "cells": [
  {
   "cell_type": "code",
   "execution_count": 18,
   "id": "43025017-126d-481d-b156-3ec047635485",
   "metadata": {},
   "outputs": [],
   "source": [
    "#loading virtual python env\n",
    "!source ./bin/activate\n"
   ]
  },
  {
   "cell_type": "code",
   "execution_count": 49,
   "id": "01d01d77-2f40-4b67-89dc-de0a2bd3191e",
   "metadata": {},
   "outputs": [],
   "source": [
    "import pandas as pd\n",
    "from sklearn.impute import SimpleImputer # fixing miss val\n",
    "import numpy as np\n",
    "from sklearn.preprocessing import LabelEncoder # for dumy variable\n",
    "from sklearn.compose import ColumnTransformer\n",
    "from sklearn.preprocessing import OneHotEncoder\n",
    "from sklearn.model_selection import train_test_split\n",
    "\n",
    "from sklearn.tree import DecisionTreeClassifier\n",
    "from sklearn.metrics import accuracy_score, confusion_matrix\n",
    "\n",
    "\n",
    "import matplotlib.pyplot as plt\n",
    "from sklearn.tree import plot_tree"
   ]
  },
  {
   "cell_type": "code",
   "execution_count": 6,
   "id": "ed606219-095e-4a68-b870-98dd7e5e1ffe",
   "metadata": {},
   "outputs": [],
   "source": [
    "url = \"https://raw.githubusercontent.com/redashu/Datasets/master/data_preprocess1.csv\""
   ]
  },
  {
   "cell_type": "code",
   "execution_count": 7,
   "id": "7783a75f-47f1-487f-b71d-c61f70638a25",
   "metadata": {},
   "outputs": [],
   "source": [
    "data = pd.read_csv(url)"
   ]
  },
  {
   "cell_type": "code",
   "execution_count": 8,
   "id": "1cc053c2-02c0-4443-9b70-ed5a5607d75f",
   "metadata": {},
   "outputs": [
    {
     "name": "stdout",
     "output_type": "stream",
     "text": [
      "    Country   Age   Salary Purchased\n",
      "0    France  44.0  72000.0        No\n",
      "1     Spain  27.0  48000.0       Yes\n",
      "2   Germany  30.0  54000.0        No\n",
      "3     Spain  38.0  61000.0        No\n",
      "4   Germany  40.0      NaN       Yes\n",
      "5    France  35.0  58000.0       Yes\n",
      "6     Spain   NaN  52000.0        No\n",
      "7    France  48.0  79000.0       Yes\n",
      "8   Germany  50.0  83000.0        No\n",
      "9    France  37.0  67000.0       Yes\n",
      "10  Germany  28.0  49000.0       Yes\n",
      "11   France  42.0  75000.0        No\n",
      "12    Spain  33.0  56000.0       Yes\n",
      "13  Germany  45.0  77000.0        No\n",
      "14   France  29.0  51000.0       Yes\n",
      "15    Spain  51.0  85000.0        No\n",
      "16  Germany  36.0      NaN        No\n",
      "17   France  31.0  55000.0        No\n",
      "18    Spain  39.0  63000.0       Yes\n",
      "19  Germany  47.0  80000.0       Yes\n",
      "20   France  26.0  47000.0        No\n",
      "21    Spain  32.0  53000.0        No\n",
      "22  Germany  41.0  71000.0       Yes\n",
      "23   France  49.0  82000.0        No\n",
      "24    Spain  34.0  57000.0       Yes\n",
      "25  Germany  43.0  74000.0        No\n",
      "26   France  52.0  88000.0       Yes\n",
      "27    Spain  46.0  78000.0        No\n",
      "28  Germany  25.0  45000.0       Yes\n",
      "29   France  53.0  90000.0        No\n"
     ]
    }
   ],
   "source": [
    "print(data)"
   ]
  },
  {
   "cell_type": "code",
   "execution_count": 9,
   "id": "4ab85dc2-e5ad-4b21-8dde-30a82e809e27",
   "metadata": {},
   "outputs": [],
   "source": [
    "df1=pd.read_csv(\"data_preprocess1.csv\")"
   ]
  },
  {
   "cell_type": "code",
   "execution_count": 10,
   "id": "1853dba5-02a2-4898-b9cd-9e64b7724825",
   "metadata": {},
   "outputs": [
    {
     "name": "stdout",
     "output_type": "stream",
     "text": [
      "<class 'pandas.core.frame.DataFrame'>\n",
      "RangeIndex: 30 entries, 0 to 29\n",
      "Data columns (total 4 columns):\n",
      " #   Column     Non-Null Count  Dtype  \n",
      "---  ------     --------------  -----  \n",
      " 0   Country    30 non-null     object \n",
      " 1   Age        29 non-null     float64\n",
      " 2   Salary     28 non-null     float64\n",
      " 3   Purchased  30 non-null     object \n",
      "dtypes: float64(2), object(2)\n",
      "memory usage: 1.1+ KB\n"
     ]
    }
   ],
   "source": [
    "# checking basic metadata info\n",
    "df1.info()"
   ]
  },
  {
   "cell_type": "code",
   "execution_count": 11,
   "id": "71abcce8-f10a-4552-87df-ad3632267b32",
   "metadata": {},
   "outputs": [
    {
     "data": {
      "text/html": [
       "<div>\n",
       "<style scoped>\n",
       "    .dataframe tbody tr th:only-of-type {\n",
       "        vertical-align: middle;\n",
       "    }\n",
       "\n",
       "    .dataframe tbody tr th {\n",
       "        vertical-align: top;\n",
       "    }\n",
       "\n",
       "    .dataframe thead th {\n",
       "        text-align: right;\n",
       "    }\n",
       "</style>\n",
       "<table border=\"1\" class=\"dataframe\">\n",
       "  <thead>\n",
       "    <tr style=\"text-align: right;\">\n",
       "      <th></th>\n",
       "      <th>Country</th>\n",
       "      <th>Age</th>\n",
       "      <th>Salary</th>\n",
       "      <th>Purchased</th>\n",
       "    </tr>\n",
       "  </thead>\n",
       "  <tbody>\n",
       "    <tr>\n",
       "      <th>0</th>\n",
       "      <td>France</td>\n",
       "      <td>44.0</td>\n",
       "      <td>72000.0</td>\n",
       "      <td>No</td>\n",
       "    </tr>\n",
       "    <tr>\n",
       "      <th>1</th>\n",
       "      <td>Spain</td>\n",
       "      <td>27.0</td>\n",
       "      <td>48000.0</td>\n",
       "      <td>Yes</td>\n",
       "    </tr>\n",
       "    <tr>\n",
       "      <th>2</th>\n",
       "      <td>Germany</td>\n",
       "      <td>30.0</td>\n",
       "      <td>54000.0</td>\n",
       "      <td>No</td>\n",
       "    </tr>\n",
       "    <tr>\n",
       "      <th>3</th>\n",
       "      <td>Spain</td>\n",
       "      <td>38.0</td>\n",
       "      <td>61000.0</td>\n",
       "      <td>No</td>\n",
       "    </tr>\n",
       "    <tr>\n",
       "      <th>4</th>\n",
       "      <td>Germany</td>\n",
       "      <td>40.0</td>\n",
       "      <td>NaN</td>\n",
       "      <td>Yes</td>\n",
       "    </tr>\n",
       "  </tbody>\n",
       "</table>\n",
       "</div>"
      ],
      "text/plain": [
       "   Country   Age   Salary Purchased\n",
       "0   France  44.0  72000.0        No\n",
       "1    Spain  27.0  48000.0       Yes\n",
       "2  Germany  30.0  54000.0        No\n",
       "3    Spain  38.0  61000.0        No\n",
       "4  Germany  40.0      NaN       Yes"
      ]
     },
     "execution_count": 11,
     "metadata": {},
     "output_type": "execute_result"
    }
   ],
   "source": [
    "#printing top 5 rows\n",
    "df1.head(5)"
   ]
  },
  {
   "cell_type": "code",
   "execution_count": 12,
   "id": "d35afb25-e458-4575-a503-3691ba36cf47",
   "metadata": {},
   "outputs": [
    {
     "data": {
      "text/html": [
       "<div>\n",
       "<style scoped>\n",
       "    .dataframe tbody tr th:only-of-type {\n",
       "        vertical-align: middle;\n",
       "    }\n",
       "\n",
       "    .dataframe tbody tr th {\n",
       "        vertical-align: top;\n",
       "    }\n",
       "\n",
       "    .dataframe thead th {\n",
       "        text-align: right;\n",
       "    }\n",
       "</style>\n",
       "<table border=\"1\" class=\"dataframe\">\n",
       "  <thead>\n",
       "    <tr style=\"text-align: right;\">\n",
       "      <th></th>\n",
       "      <th>Country</th>\n",
       "      <th>Age</th>\n",
       "      <th>Salary</th>\n",
       "      <th>Purchased</th>\n",
       "    </tr>\n",
       "  </thead>\n",
       "  <tbody>\n",
       "    <tr>\n",
       "      <th>25</th>\n",
       "      <td>Germany</td>\n",
       "      <td>43.0</td>\n",
       "      <td>74000.0</td>\n",
       "      <td>No</td>\n",
       "    </tr>\n",
       "    <tr>\n",
       "      <th>26</th>\n",
       "      <td>France</td>\n",
       "      <td>52.0</td>\n",
       "      <td>88000.0</td>\n",
       "      <td>Yes</td>\n",
       "    </tr>\n",
       "    <tr>\n",
       "      <th>27</th>\n",
       "      <td>Spain</td>\n",
       "      <td>46.0</td>\n",
       "      <td>78000.0</td>\n",
       "      <td>No</td>\n",
       "    </tr>\n",
       "    <tr>\n",
       "      <th>28</th>\n",
       "      <td>Germany</td>\n",
       "      <td>25.0</td>\n",
       "      <td>45000.0</td>\n",
       "      <td>Yes</td>\n",
       "    </tr>\n",
       "    <tr>\n",
       "      <th>29</th>\n",
       "      <td>France</td>\n",
       "      <td>53.0</td>\n",
       "      <td>90000.0</td>\n",
       "      <td>No</td>\n",
       "    </tr>\n",
       "  </tbody>\n",
       "</table>\n",
       "</div>"
      ],
      "text/plain": [
       "    Country   Age   Salary Purchased\n",
       "25  Germany  43.0  74000.0        No\n",
       "26   France  52.0  88000.0       Yes\n",
       "27    Spain  46.0  78000.0        No\n",
       "28  Germany  25.0  45000.0       Yes\n",
       "29   France  53.0  90000.0        No"
      ]
     },
     "execution_count": 12,
     "metadata": {},
     "output_type": "execute_result"
    }
   ],
   "source": [
    "data.tail()\n"
   ]
  },
  {
   "cell_type": "code",
   "execution_count": 13,
   "id": "98dd77e9-3cc9-4979-acb0-6aa6c34949fc",
   "metadata": {},
   "outputs": [
    {
     "data": {
      "text/plain": [
       "0     44.0\n",
       "1     27.0\n",
       "2     30.0\n",
       "3     38.0\n",
       "4     40.0\n",
       "5     35.0\n",
       "6      NaN\n",
       "7     48.0\n",
       "8     50.0\n",
       "9     37.0\n",
       "10    28.0\n",
       "11    42.0\n",
       "12    33.0\n",
       "13    45.0\n",
       "14    29.0\n",
       "15    51.0\n",
       "16    36.0\n",
       "17    31.0\n",
       "18    39.0\n",
       "19    47.0\n",
       "20    26.0\n",
       "21    32.0\n",
       "22    41.0\n",
       "23    49.0\n",
       "24    34.0\n",
       "25    43.0\n",
       "26    52.0\n",
       "27    46.0\n",
       "28    25.0\n",
       "29    53.0\n",
       "Name: Age, dtype: float64"
      ]
     },
     "execution_count": 13,
     "metadata": {},
     "output_type": "execute_result"
    }
   ],
   "source": [
    "#accessing partocular column\n",
    "df1[\"Age\"]\n"
   ]
  },
  {
   "cell_type": "code",
   "execution_count": 14,
   "id": "0dd77471-6c5a-4b80-8b44-92ebe51977c0",
   "metadata": {},
   "outputs": [
    {
     "data": {
      "text/html": [
       "<div>\n",
       "<style scoped>\n",
       "    .dataframe tbody tr th:only-of-type {\n",
       "        vertical-align: middle;\n",
       "    }\n",
       "\n",
       "    .dataframe tbody tr th {\n",
       "        vertical-align: top;\n",
       "    }\n",
       "\n",
       "    .dataframe thead th {\n",
       "        text-align: right;\n",
       "    }\n",
       "</style>\n",
       "<table border=\"1\" class=\"dataframe\">\n",
       "  <thead>\n",
       "    <tr style=\"text-align: right;\">\n",
       "      <th></th>\n",
       "      <th>Age</th>\n",
       "      <th>Salary</th>\n",
       "    </tr>\n",
       "  </thead>\n",
       "  <tbody>\n",
       "    <tr>\n",
       "      <th>0</th>\n",
       "      <td>44.0</td>\n",
       "      <td>72000.0</td>\n",
       "    </tr>\n",
       "    <tr>\n",
       "      <th>1</th>\n",
       "      <td>27.0</td>\n",
       "      <td>48000.0</td>\n",
       "    </tr>\n",
       "    <tr>\n",
       "      <th>2</th>\n",
       "      <td>30.0</td>\n",
       "      <td>54000.0</td>\n",
       "    </tr>\n",
       "    <tr>\n",
       "      <th>3</th>\n",
       "      <td>38.0</td>\n",
       "      <td>61000.0</td>\n",
       "    </tr>\n",
       "    <tr>\n",
       "      <th>4</th>\n",
       "      <td>40.0</td>\n",
       "      <td>NaN</td>\n",
       "    </tr>\n",
       "    <tr>\n",
       "      <th>5</th>\n",
       "      <td>35.0</td>\n",
       "      <td>58000.0</td>\n",
       "    </tr>\n",
       "    <tr>\n",
       "      <th>6</th>\n",
       "      <td>NaN</td>\n",
       "      <td>52000.0</td>\n",
       "    </tr>\n",
       "    <tr>\n",
       "      <th>7</th>\n",
       "      <td>48.0</td>\n",
       "      <td>79000.0</td>\n",
       "    </tr>\n",
       "    <tr>\n",
       "      <th>8</th>\n",
       "      <td>50.0</td>\n",
       "      <td>83000.0</td>\n",
       "    </tr>\n",
       "    <tr>\n",
       "      <th>9</th>\n",
       "      <td>37.0</td>\n",
       "      <td>67000.0</td>\n",
       "    </tr>\n",
       "    <tr>\n",
       "      <th>10</th>\n",
       "      <td>28.0</td>\n",
       "      <td>49000.0</td>\n",
       "    </tr>\n",
       "    <tr>\n",
       "      <th>11</th>\n",
       "      <td>42.0</td>\n",
       "      <td>75000.0</td>\n",
       "    </tr>\n",
       "    <tr>\n",
       "      <th>12</th>\n",
       "      <td>33.0</td>\n",
       "      <td>56000.0</td>\n",
       "    </tr>\n",
       "    <tr>\n",
       "      <th>13</th>\n",
       "      <td>45.0</td>\n",
       "      <td>77000.0</td>\n",
       "    </tr>\n",
       "    <tr>\n",
       "      <th>14</th>\n",
       "      <td>29.0</td>\n",
       "      <td>51000.0</td>\n",
       "    </tr>\n",
       "    <tr>\n",
       "      <th>15</th>\n",
       "      <td>51.0</td>\n",
       "      <td>85000.0</td>\n",
       "    </tr>\n",
       "    <tr>\n",
       "      <th>16</th>\n",
       "      <td>36.0</td>\n",
       "      <td>NaN</td>\n",
       "    </tr>\n",
       "    <tr>\n",
       "      <th>17</th>\n",
       "      <td>31.0</td>\n",
       "      <td>55000.0</td>\n",
       "    </tr>\n",
       "    <tr>\n",
       "      <th>18</th>\n",
       "      <td>39.0</td>\n",
       "      <td>63000.0</td>\n",
       "    </tr>\n",
       "    <tr>\n",
       "      <th>19</th>\n",
       "      <td>47.0</td>\n",
       "      <td>80000.0</td>\n",
       "    </tr>\n",
       "    <tr>\n",
       "      <th>20</th>\n",
       "      <td>26.0</td>\n",
       "      <td>47000.0</td>\n",
       "    </tr>\n",
       "    <tr>\n",
       "      <th>21</th>\n",
       "      <td>32.0</td>\n",
       "      <td>53000.0</td>\n",
       "    </tr>\n",
       "    <tr>\n",
       "      <th>22</th>\n",
       "      <td>41.0</td>\n",
       "      <td>71000.0</td>\n",
       "    </tr>\n",
       "    <tr>\n",
       "      <th>23</th>\n",
       "      <td>49.0</td>\n",
       "      <td>82000.0</td>\n",
       "    </tr>\n",
       "    <tr>\n",
       "      <th>24</th>\n",
       "      <td>34.0</td>\n",
       "      <td>57000.0</td>\n",
       "    </tr>\n",
       "    <tr>\n",
       "      <th>25</th>\n",
       "      <td>43.0</td>\n",
       "      <td>74000.0</td>\n",
       "    </tr>\n",
       "    <tr>\n",
       "      <th>26</th>\n",
       "      <td>52.0</td>\n",
       "      <td>88000.0</td>\n",
       "    </tr>\n",
       "    <tr>\n",
       "      <th>27</th>\n",
       "      <td>46.0</td>\n",
       "      <td>78000.0</td>\n",
       "    </tr>\n",
       "    <tr>\n",
       "      <th>28</th>\n",
       "      <td>25.0</td>\n",
       "      <td>45000.0</td>\n",
       "    </tr>\n",
       "    <tr>\n",
       "      <th>29</th>\n",
       "      <td>53.0</td>\n",
       "      <td>90000.0</td>\n",
       "    </tr>\n",
       "  </tbody>\n",
       "</table>\n",
       "</div>"
      ],
      "text/plain": [
       "     Age   Salary\n",
       "0   44.0  72000.0\n",
       "1   27.0  48000.0\n",
       "2   30.0  54000.0\n",
       "3   38.0  61000.0\n",
       "4   40.0      NaN\n",
       "5   35.0  58000.0\n",
       "6    NaN  52000.0\n",
       "7   48.0  79000.0\n",
       "8   50.0  83000.0\n",
       "9   37.0  67000.0\n",
       "10  28.0  49000.0\n",
       "11  42.0  75000.0\n",
       "12  33.0  56000.0\n",
       "13  45.0  77000.0\n",
       "14  29.0  51000.0\n",
       "15  51.0  85000.0\n",
       "16  36.0      NaN\n",
       "17  31.0  55000.0\n",
       "18  39.0  63000.0\n",
       "19  47.0  80000.0\n",
       "20  26.0  47000.0\n",
       "21  32.0  53000.0\n",
       "22  41.0  71000.0\n",
       "23  49.0  82000.0\n",
       "24  34.0  57000.0\n",
       "25  43.0  74000.0\n",
       "26  52.0  88000.0\n",
       "27  46.0  78000.0\n",
       "28  25.0  45000.0\n",
       "29  53.0  90000.0"
      ]
     },
     "execution_count": 14,
     "metadata": {},
     "output_type": "execute_result"
    }
   ],
   "source": [
    "df1[[\"Age\",\"Salary\"]]"
   ]
  },
  {
   "cell_type": "code",
   "execution_count": 15,
   "id": "08de4c29-62ee-4aea-9831-bf773e789b4f",
   "metadata": {},
   "outputs": [
    {
     "data": {
      "text/html": [
       "<div>\n",
       "<style scoped>\n",
       "    .dataframe tbody tr th:only-of-type {\n",
       "        vertical-align: middle;\n",
       "    }\n",
       "\n",
       "    .dataframe tbody tr th {\n",
       "        vertical-align: top;\n",
       "    }\n",
       "\n",
       "    .dataframe thead th {\n",
       "        text-align: right;\n",
       "    }\n",
       "</style>\n",
       "<table border=\"1\" class=\"dataframe\">\n",
       "  <thead>\n",
       "    <tr style=\"text-align: right;\">\n",
       "      <th></th>\n",
       "      <th>Country</th>\n",
       "      <th>Age</th>\n",
       "    </tr>\n",
       "  </thead>\n",
       "  <tbody>\n",
       "    <tr>\n",
       "      <th>0</th>\n",
       "      <td>France</td>\n",
       "      <td>44.0</td>\n",
       "    </tr>\n",
       "    <tr>\n",
       "      <th>1</th>\n",
       "      <td>Spain</td>\n",
       "      <td>27.0</td>\n",
       "    </tr>\n",
       "    <tr>\n",
       "      <th>2</th>\n",
       "      <td>Germany</td>\n",
       "      <td>30.0</td>\n",
       "    </tr>\n",
       "    <tr>\n",
       "      <th>3</th>\n",
       "      <td>Spain</td>\n",
       "      <td>38.0</td>\n",
       "    </tr>\n",
       "    <tr>\n",
       "      <th>4</th>\n",
       "      <td>Germany</td>\n",
       "      <td>40.0</td>\n",
       "    </tr>\n",
       "    <tr>\n",
       "      <th>5</th>\n",
       "      <td>France</td>\n",
       "      <td>35.0</td>\n",
       "    </tr>\n",
       "    <tr>\n",
       "      <th>6</th>\n",
       "      <td>Spain</td>\n",
       "      <td>NaN</td>\n",
       "    </tr>\n",
       "    <tr>\n",
       "      <th>7</th>\n",
       "      <td>France</td>\n",
       "      <td>48.0</td>\n",
       "    </tr>\n",
       "    <tr>\n",
       "      <th>8</th>\n",
       "      <td>Germany</td>\n",
       "      <td>50.0</td>\n",
       "    </tr>\n",
       "    <tr>\n",
       "      <th>9</th>\n",
       "      <td>France</td>\n",
       "      <td>37.0</td>\n",
       "    </tr>\n",
       "    <tr>\n",
       "      <th>10</th>\n",
       "      <td>Germany</td>\n",
       "      <td>28.0</td>\n",
       "    </tr>\n",
       "    <tr>\n",
       "      <th>11</th>\n",
       "      <td>France</td>\n",
       "      <td>42.0</td>\n",
       "    </tr>\n",
       "    <tr>\n",
       "      <th>12</th>\n",
       "      <td>Spain</td>\n",
       "      <td>33.0</td>\n",
       "    </tr>\n",
       "    <tr>\n",
       "      <th>13</th>\n",
       "      <td>Germany</td>\n",
       "      <td>45.0</td>\n",
       "    </tr>\n",
       "    <tr>\n",
       "      <th>14</th>\n",
       "      <td>France</td>\n",
       "      <td>29.0</td>\n",
       "    </tr>\n",
       "    <tr>\n",
       "      <th>15</th>\n",
       "      <td>Spain</td>\n",
       "      <td>51.0</td>\n",
       "    </tr>\n",
       "    <tr>\n",
       "      <th>16</th>\n",
       "      <td>Germany</td>\n",
       "      <td>36.0</td>\n",
       "    </tr>\n",
       "    <tr>\n",
       "      <th>17</th>\n",
       "      <td>France</td>\n",
       "      <td>31.0</td>\n",
       "    </tr>\n",
       "    <tr>\n",
       "      <th>18</th>\n",
       "      <td>Spain</td>\n",
       "      <td>39.0</td>\n",
       "    </tr>\n",
       "    <tr>\n",
       "      <th>19</th>\n",
       "      <td>Germany</td>\n",
       "      <td>47.0</td>\n",
       "    </tr>\n",
       "    <tr>\n",
       "      <th>20</th>\n",
       "      <td>France</td>\n",
       "      <td>26.0</td>\n",
       "    </tr>\n",
       "    <tr>\n",
       "      <th>21</th>\n",
       "      <td>Spain</td>\n",
       "      <td>32.0</td>\n",
       "    </tr>\n",
       "    <tr>\n",
       "      <th>22</th>\n",
       "      <td>Germany</td>\n",
       "      <td>41.0</td>\n",
       "    </tr>\n",
       "    <tr>\n",
       "      <th>23</th>\n",
       "      <td>France</td>\n",
       "      <td>49.0</td>\n",
       "    </tr>\n",
       "    <tr>\n",
       "      <th>24</th>\n",
       "      <td>Spain</td>\n",
       "      <td>34.0</td>\n",
       "    </tr>\n",
       "    <tr>\n",
       "      <th>25</th>\n",
       "      <td>Germany</td>\n",
       "      <td>43.0</td>\n",
       "    </tr>\n",
       "    <tr>\n",
       "      <th>26</th>\n",
       "      <td>France</td>\n",
       "      <td>52.0</td>\n",
       "    </tr>\n",
       "    <tr>\n",
       "      <th>27</th>\n",
       "      <td>Spain</td>\n",
       "      <td>46.0</td>\n",
       "    </tr>\n",
       "    <tr>\n",
       "      <th>28</th>\n",
       "      <td>Germany</td>\n",
       "      <td>25.0</td>\n",
       "    </tr>\n",
       "    <tr>\n",
       "      <th>29</th>\n",
       "      <td>France</td>\n",
       "      <td>53.0</td>\n",
       "    </tr>\n",
       "  </tbody>\n",
       "</table>\n",
       "</div>"
      ],
      "text/plain": [
       "    Country   Age\n",
       "0    France  44.0\n",
       "1     Spain  27.0\n",
       "2   Germany  30.0\n",
       "3     Spain  38.0\n",
       "4   Germany  40.0\n",
       "5    France  35.0\n",
       "6     Spain   NaN\n",
       "7    France  48.0\n",
       "8   Germany  50.0\n",
       "9    France  37.0\n",
       "10  Germany  28.0\n",
       "11   France  42.0\n",
       "12    Spain  33.0\n",
       "13  Germany  45.0\n",
       "14   France  29.0\n",
       "15    Spain  51.0\n",
       "16  Germany  36.0\n",
       "17   France  31.0\n",
       "18    Spain  39.0\n",
       "19  Germany  47.0\n",
       "20   France  26.0\n",
       "21    Spain  32.0\n",
       "22  Germany  41.0\n",
       "23   France  49.0\n",
       "24    Spain  34.0\n",
       "25  Germany  43.0\n",
       "26   France  52.0\n",
       "27    Spain  46.0\n",
       "28  Germany  25.0\n",
       "29   France  53.0"
      ]
     },
     "execution_count": 15,
     "metadata": {},
     "output_type": "execute_result"
    }
   ],
   "source": [
    "# using df iloc\n",
    "df1.iloc[:,0:2]"
   ]
  },
  {
   "cell_type": "code",
   "execution_count": 16,
   "id": "12030cd9-5c1a-4134-8b03-11c16237d888",
   "metadata": {},
   "outputs": [
    {
     "data": {
      "text/html": [
       "<div>\n",
       "<style scoped>\n",
       "    .dataframe tbody tr th:only-of-type {\n",
       "        vertical-align: middle;\n",
       "    }\n",
       "\n",
       "    .dataframe tbody tr th {\n",
       "        vertical-align: top;\n",
       "    }\n",
       "\n",
       "    .dataframe thead th {\n",
       "        text-align: right;\n",
       "    }\n",
       "</style>\n",
       "<table border=\"1\" class=\"dataframe\">\n",
       "  <thead>\n",
       "    <tr style=\"text-align: right;\">\n",
       "      <th></th>\n",
       "      <th>Country</th>\n",
       "      <th>Age</th>\n",
       "    </tr>\n",
       "  </thead>\n",
       "  <tbody>\n",
       "    <tr>\n",
       "      <th>1</th>\n",
       "      <td>Spain</td>\n",
       "      <td>27.0</td>\n",
       "    </tr>\n",
       "    <tr>\n",
       "      <th>2</th>\n",
       "      <td>Germany</td>\n",
       "      <td>30.0</td>\n",
       "    </tr>\n",
       "    <tr>\n",
       "      <th>3</th>\n",
       "      <td>Spain</td>\n",
       "      <td>38.0</td>\n",
       "    </tr>\n",
       "    <tr>\n",
       "      <th>4</th>\n",
       "      <td>Germany</td>\n",
       "      <td>40.0</td>\n",
       "    </tr>\n",
       "    <tr>\n",
       "      <th>5</th>\n",
       "      <td>France</td>\n",
       "      <td>35.0</td>\n",
       "    </tr>\n",
       "    <tr>\n",
       "      <th>6</th>\n",
       "      <td>Spain</td>\n",
       "      <td>NaN</td>\n",
       "    </tr>\n",
       "    <tr>\n",
       "      <th>7</th>\n",
       "      <td>France</td>\n",
       "      <td>48.0</td>\n",
       "    </tr>\n",
       "    <tr>\n",
       "      <th>8</th>\n",
       "      <td>Germany</td>\n",
       "      <td>50.0</td>\n",
       "    </tr>\n",
       "    <tr>\n",
       "      <th>9</th>\n",
       "      <td>France</td>\n",
       "      <td>37.0</td>\n",
       "    </tr>\n",
       "    <tr>\n",
       "      <th>10</th>\n",
       "      <td>Germany</td>\n",
       "      <td>28.0</td>\n",
       "    </tr>\n",
       "    <tr>\n",
       "      <th>11</th>\n",
       "      <td>France</td>\n",
       "      <td>42.0</td>\n",
       "    </tr>\n",
       "    <tr>\n",
       "      <th>12</th>\n",
       "      <td>Spain</td>\n",
       "      <td>33.0</td>\n",
       "    </tr>\n",
       "    <tr>\n",
       "      <th>13</th>\n",
       "      <td>Germany</td>\n",
       "      <td>45.0</td>\n",
       "    </tr>\n",
       "    <tr>\n",
       "      <th>14</th>\n",
       "      <td>France</td>\n",
       "      <td>29.0</td>\n",
       "    </tr>\n",
       "    <tr>\n",
       "      <th>15</th>\n",
       "      <td>Spain</td>\n",
       "      <td>51.0</td>\n",
       "    </tr>\n",
       "    <tr>\n",
       "      <th>16</th>\n",
       "      <td>Germany</td>\n",
       "      <td>36.0</td>\n",
       "    </tr>\n",
       "    <tr>\n",
       "      <th>17</th>\n",
       "      <td>France</td>\n",
       "      <td>31.0</td>\n",
       "    </tr>\n",
       "    <tr>\n",
       "      <th>18</th>\n",
       "      <td>Spain</td>\n",
       "      <td>39.0</td>\n",
       "    </tr>\n",
       "    <tr>\n",
       "      <th>19</th>\n",
       "      <td>Germany</td>\n",
       "      <td>47.0</td>\n",
       "    </tr>\n",
       "    <tr>\n",
       "      <th>20</th>\n",
       "      <td>France</td>\n",
       "      <td>26.0</td>\n",
       "    </tr>\n",
       "    <tr>\n",
       "      <th>21</th>\n",
       "      <td>Spain</td>\n",
       "      <td>32.0</td>\n",
       "    </tr>\n",
       "    <tr>\n",
       "      <th>22</th>\n",
       "      <td>Germany</td>\n",
       "      <td>41.0</td>\n",
       "    </tr>\n",
       "    <tr>\n",
       "      <th>23</th>\n",
       "      <td>France</td>\n",
       "      <td>49.0</td>\n",
       "    </tr>\n",
       "    <tr>\n",
       "      <th>24</th>\n",
       "      <td>Spain</td>\n",
       "      <td>34.0</td>\n",
       "    </tr>\n",
       "    <tr>\n",
       "      <th>25</th>\n",
       "      <td>Germany</td>\n",
       "      <td>43.0</td>\n",
       "    </tr>\n",
       "    <tr>\n",
       "      <th>26</th>\n",
       "      <td>France</td>\n",
       "      <td>52.0</td>\n",
       "    </tr>\n",
       "    <tr>\n",
       "      <th>27</th>\n",
       "      <td>Spain</td>\n",
       "      <td>46.0</td>\n",
       "    </tr>\n",
       "    <tr>\n",
       "      <th>28</th>\n",
       "      <td>Germany</td>\n",
       "      <td>25.0</td>\n",
       "    </tr>\n",
       "    <tr>\n",
       "      <th>29</th>\n",
       "      <td>France</td>\n",
       "      <td>53.0</td>\n",
       "    </tr>\n",
       "  </tbody>\n",
       "</table>\n",
       "</div>"
      ],
      "text/plain": [
       "    Country   Age\n",
       "1     Spain  27.0\n",
       "2   Germany  30.0\n",
       "3     Spain  38.0\n",
       "4   Germany  40.0\n",
       "5    France  35.0\n",
       "6     Spain   NaN\n",
       "7    France  48.0\n",
       "8   Germany  50.0\n",
       "9    France  37.0\n",
       "10  Germany  28.0\n",
       "11   France  42.0\n",
       "12    Spain  33.0\n",
       "13  Germany  45.0\n",
       "14   France  29.0\n",
       "15    Spain  51.0\n",
       "16  Germany  36.0\n",
       "17   France  31.0\n",
       "18    Spain  39.0\n",
       "19  Germany  47.0\n",
       "20   France  26.0\n",
       "21    Spain  32.0\n",
       "22  Germany  41.0\n",
       "23   France  49.0\n",
       "24    Spain  34.0\n",
       "25  Germany  43.0\n",
       "26   France  52.0\n",
       "27    Spain  46.0\n",
       "28  Germany  25.0\n",
       "29   France  53.0"
      ]
     },
     "execution_count": 16,
     "metadata": {},
     "output_type": "execute_result"
    }
   ],
   "source": [
    "# using df iloc\n",
    "df1.iloc[1:,0:2]"
   ]
  },
  {
   "cell_type": "code",
   "execution_count": 17,
   "id": "a43827a6-9669-44ea-9528-d65ee2283000",
   "metadata": {},
   "outputs": [
    {
     "data": {
      "text/plain": [
       "0      France\n",
       "1       Spain\n",
       "2     Germany\n",
       "3       Spain\n",
       "4     Germany\n",
       "5      France\n",
       "6       Spain\n",
       "7      France\n",
       "8     Germany\n",
       "9      France\n",
       "10    Germany\n",
       "11     France\n",
       "12      Spain\n",
       "13    Germany\n",
       "14     France\n",
       "15      Spain\n",
       "16    Germany\n",
       "17     France\n",
       "18      Spain\n",
       "19    Germany\n",
       "20     France\n",
       "21      Spain\n",
       "22    Germany\n",
       "23     France\n",
       "24      Spain\n",
       "25    Germany\n",
       "26     France\n",
       "27      Spain\n",
       "28    Germany\n",
       "29     France\n",
       "Name: Country, dtype: object"
      ]
     },
     "execution_count": 17,
     "metadata": {},
     "output_type": "execute_result"
    }
   ],
   "source": [
    "# using df iloc\n",
    "df1.iloc[:,0]"
   ]
  },
  {
   "cell_type": "code",
   "execution_count": 23,
   "id": "c430a4e9-581f-4cbc-8837-d9c5d7d40800",
   "metadata": {},
   "outputs": [
    {
     "data": {
      "text/plain": [
       "array([['France', 44.0, 72000.0],\n",
       "       ['Spain', 27.0, 48000.0],\n",
       "       ['Germany', 30.0, 54000.0],\n",
       "       ['Spain', 38.0, 61000.0],\n",
       "       ['Germany', 40.0, nan],\n",
       "       ['France', 35.0, 58000.0],\n",
       "       ['Spain', nan, 52000.0],\n",
       "       ['France', 48.0, 79000.0],\n",
       "       ['Germany', 50.0, 83000.0],\n",
       "       ['France', 37.0, 67000.0],\n",
       "       ['Germany', 28.0, 49000.0],\n",
       "       ['France', 42.0, 75000.0],\n",
       "       ['Spain', 33.0, 56000.0],\n",
       "       ['Germany', 45.0, 77000.0],\n",
       "       ['France', 29.0, 51000.0],\n",
       "       ['Spain', 51.0, 85000.0],\n",
       "       ['Germany', 36.0, nan],\n",
       "       ['France', 31.0, 55000.0],\n",
       "       ['Spain', 39.0, 63000.0],\n",
       "       ['Germany', 47.0, 80000.0],\n",
       "       ['France', 26.0, 47000.0],\n",
       "       ['Spain', 32.0, 53000.0],\n",
       "       ['Germany', 41.0, 71000.0],\n",
       "       ['France', 49.0, 82000.0],\n",
       "       ['Spain', 34.0, 57000.0],\n",
       "       ['Germany', 43.0, 74000.0],\n",
       "       ['France', 52.0, 88000.0],\n",
       "       ['Spain', 46.0, 78000.0],\n",
       "       ['Germany', 25.0, 45000.0],\n",
       "       ['France', 53.0, 90000.0]], dtype=object)"
      ]
     },
     "execution_count": 23,
     "metadata": {},
     "output_type": "execute_result"
    }
   ],
   "source": [
    "# separating data into input and output\n",
    "input_features=df1.iloc[:,0:3].values\n",
    "input_features\n"
   ]
  },
  {
   "cell_type": "code",
   "execution_count": 26,
   "id": "70a9435a-0fb2-4251-ae1b-c9f01cb704a7",
   "metadata": {},
   "outputs": [],
   "source": [
    "label=df1.iloc[:,-1].values\n"
   ]
  },
  {
   "cell_type": "code",
   "execution_count": 27,
   "id": "d68426ff-d839-4492-bddb-f9f9b77fb531",
   "metadata": {},
   "outputs": [
    {
     "ename": "AttributeError",
     "evalue": "'numpy.ndarray' object has no attribute 'head'",
     "output_type": "error",
     "traceback": [
      "\u001b[31m---------------------------------------------------------------------------\u001b[39m",
      "\u001b[31mAttributeError\u001b[39m                            Traceback (most recent call last)",
      "\u001b[36mCell\u001b[39m\u001b[36m \u001b[39m\u001b[32mIn[27]\u001b[39m\u001b[32m, line 1\u001b[39m\n\u001b[32m----> \u001b[39m\u001b[32m1\u001b[39m \u001b[43mlabel\u001b[49m\u001b[43m.\u001b[49m\u001b[43mhead\u001b[49m()\n",
      "\u001b[31mAttributeError\u001b[39m: 'numpy.ndarray' object has no attribute 'head'"
     ]
    }
   ],
   "source": [
    "label.head()"
   ]
  },
  {
   "cell_type": "code",
   "execution_count": 28,
   "id": "af4a0eb6-bd60-4e12-9197-39b4134c842c",
   "metadata": {},
   "outputs": [],
   "source": [
    "# fixing age and salary miss val\n",
    "ashu_impute=SimpleImputer(missing_values=np.nan,strategy=\"mean\")\n"
   ]
  },
  {
   "cell_type": "code",
   "execution_count": 29,
   "id": "f515ddca-eb31-420c-ac5b-fc393df051e0",
   "metadata": {},
   "outputs": [],
   "source": [
    "ashu_impute.fit(input_features[:,1:3]) # calculating the missing values \n",
    "input_features[:,1:3] = ashu_impute.transform(input_features[:,1:3]) # making changes"
   ]
  },
  {
   "cell_type": "code",
   "execution_count": 30,
   "id": "adbf3c06-d706-4293-8add-9406a540475d",
   "metadata": {},
   "outputs": [],
   "source": [
    "le=LabelEncoder()\n",
    "label=le.fit_transform(label)"
   ]
  },
  {
   "cell_type": "code",
   "execution_count": 31,
   "id": "012a8a18-0144-431c-b3df-253d4ef9ae3f",
   "metadata": {},
   "outputs": [
    {
     "data": {
      "text/plain": [
       "array([0, 1, 0, 0, 1, 1, 0, 1, 0, 1, 1, 0, 1, 0, 1, 0, 0, 0, 1, 1, 0, 0,\n",
       "       1, 0, 1, 0, 1, 0, 1, 0])"
      ]
     },
     "execution_count": 31,
     "metadata": {},
     "output_type": "execute_result"
    }
   ],
   "source": [
    "label"
   ]
  },
  {
   "cell_type": "code",
   "execution_count": 32,
   "id": "201207bb-7d9a-4176-97f1-8be7b4ff520b",
   "metadata": {},
   "outputs": [],
   "source": [
    "# data preprocessing using categorical values\n",
    "ct=ColumnTransformer(transformers=[(\"encoder\", OneHotEncoder(),[0])],remainder=\"passthrough\")"
   ]
  },
  {
   "cell_type": "code",
   "execution_count": 33,
   "id": "7cbbee6c-8de4-4c34-afca-732f2cb98965",
   "metadata": {},
   "outputs": [],
   "source": [
    "input_features=np.array(ct.fit_transform(input_features))"
   ]
  },
  {
   "cell_type": "code",
   "execution_count": 34,
   "id": "2d984d23-d6c5-4cca-b3a9-4d78d6c28b29",
   "metadata": {},
   "outputs": [
    {
     "data": {
      "text/plain": [
       "array([[1.0, 0.0, 0.0, 44.0, 72000.0],\n",
       "       [0.0, 0.0, 1.0, 27.0, 48000.0],\n",
       "       [0.0, 1.0, 0.0, 30.0, 54000.0],\n",
       "       [0.0, 0.0, 1.0, 38.0, 61000.0],\n",
       "       [0.0, 1.0, 0.0, 40.0, 66071.42857142857],\n",
       "       [1.0, 0.0, 0.0, 35.0, 58000.0],\n",
       "       [0.0, 0.0, 1.0, 39.0, 52000.0],\n",
       "       [1.0, 0.0, 0.0, 48.0, 79000.0],\n",
       "       [0.0, 1.0, 0.0, 50.0, 83000.0],\n",
       "       [1.0, 0.0, 0.0, 37.0, 67000.0],\n",
       "       [0.0, 1.0, 0.0, 28.0, 49000.0],\n",
       "       [1.0, 0.0, 0.0, 42.0, 75000.0],\n",
       "       [0.0, 0.0, 1.0, 33.0, 56000.0],\n",
       "       [0.0, 1.0, 0.0, 45.0, 77000.0],\n",
       "       [1.0, 0.0, 0.0, 29.0, 51000.0],\n",
       "       [0.0, 0.0, 1.0, 51.0, 85000.0],\n",
       "       [0.0, 1.0, 0.0, 36.0, 66071.42857142857],\n",
       "       [1.0, 0.0, 0.0, 31.0, 55000.0],\n",
       "       [0.0, 0.0, 1.0, 39.0, 63000.0],\n",
       "       [0.0, 1.0, 0.0, 47.0, 80000.0],\n",
       "       [1.0, 0.0, 0.0, 26.0, 47000.0],\n",
       "       [0.0, 0.0, 1.0, 32.0, 53000.0],\n",
       "       [0.0, 1.0, 0.0, 41.0, 71000.0],\n",
       "       [1.0, 0.0, 0.0, 49.0, 82000.0],\n",
       "       [0.0, 0.0, 1.0, 34.0, 57000.0],\n",
       "       [0.0, 1.0, 0.0, 43.0, 74000.0],\n",
       "       [1.0, 0.0, 0.0, 52.0, 88000.0],\n",
       "       [0.0, 0.0, 1.0, 46.0, 78000.0],\n",
       "       [0.0, 1.0, 0.0, 25.0, 45000.0],\n",
       "       [1.0, 0.0, 0.0, 53.0, 90000.0]], dtype=object)"
      ]
     },
     "execution_count": 34,
     "metadata": {},
     "output_type": "execute_result"
    }
   ],
   "source": [
    "input_features\n"
   ]
  },
  {
   "cell_type": "code",
   "execution_count": 35,
   "id": "3541f624-000a-4853-9f56-d1bab7dcf5b5",
   "metadata": {},
   "outputs": [
    {
     "ename": "AttributeError",
     "evalue": "'numpy.ndarray' object has no attribute 'head'",
     "output_type": "error",
     "traceback": [
      "\u001b[31m---------------------------------------------------------------------------\u001b[39m",
      "\u001b[31mAttributeError\u001b[39m                            Traceback (most recent call last)",
      "\u001b[36mCell\u001b[39m\u001b[36m \u001b[39m\u001b[32mIn[35]\u001b[39m\u001b[32m, line 1\u001b[39m\n\u001b[32m----> \u001b[39m\u001b[32m1\u001b[39m \u001b[43minput_features\u001b[49m\u001b[43m.\u001b[49m\u001b[43mhead\u001b[49m()\n",
      "\u001b[31mAttributeError\u001b[39m: 'numpy.ndarray' object has no attribute 'head'"
     ]
    }
   ],
   "source": [
    "input_features.head()\n"
   ]
  },
  {
   "cell_type": "code",
   "execution_count": 36,
   "id": "7c8a449a-370c-4652-b250-3e75df51f0b7",
   "metadata": {},
   "outputs": [],
   "source": [
    "# finally we have input and label this one we can train to Machine Learning ALgo\n",
    "traing_input,testing_input,train_label,test_label=train_test_split(input_features,label,test_size=0.1)\n",
    "# note test_size (0 to 1) --- 0.1 means 10% testing data size"
   ]
  },
  {
   "cell_type": "code",
   "execution_count": 38,
   "id": "3807e846-c627-4c07-be37-30755c88d91e",
   "metadata": {},
   "outputs": [
    {
     "data": {
      "text/plain": [
       "array([[1.0, 0.0, 0.0, 52.0, 88000.0],\n",
       "       [0.0, 0.0, 1.0, 38.0, 61000.0],\n",
       "       [0.0, 0.0, 1.0, 39.0, 52000.0],\n",
       "       [0.0, 1.0, 0.0, 40.0, 66071.42857142857],\n",
       "       [0.0, 0.0, 1.0, 27.0, 48000.0],\n",
       "       [0.0, 1.0, 0.0, 28.0, 49000.0],\n",
       "       [1.0, 0.0, 0.0, 49.0, 82000.0],\n",
       "       [0.0, 1.0, 0.0, 43.0, 74000.0],\n",
       "       [0.0, 0.0, 1.0, 34.0, 57000.0],\n",
       "       [0.0, 0.0, 1.0, 33.0, 56000.0],\n",
       "       [0.0, 1.0, 0.0, 45.0, 77000.0],\n",
       "       [0.0, 1.0, 0.0, 41.0, 71000.0],\n",
       "       [1.0, 0.0, 0.0, 29.0, 51000.0],\n",
       "       [1.0, 0.0, 0.0, 42.0, 75000.0],\n",
       "       [0.0, 1.0, 0.0, 30.0, 54000.0],\n",
       "       [0.0, 0.0, 1.0, 46.0, 78000.0],\n",
       "       [0.0, 1.0, 0.0, 25.0, 45000.0],\n",
       "       [0.0, 1.0, 0.0, 47.0, 80000.0],\n",
       "       [0.0, 0.0, 1.0, 51.0, 85000.0],\n",
       "       [0.0, 1.0, 0.0, 36.0, 66071.42857142857],\n",
       "       [1.0, 0.0, 0.0, 31.0, 55000.0],\n",
       "       [1.0, 0.0, 0.0, 44.0, 72000.0],\n",
       "       [1.0, 0.0, 0.0, 35.0, 58000.0],\n",
       "       [0.0, 0.0, 1.0, 32.0, 53000.0],\n",
       "       [0.0, 0.0, 1.0, 39.0, 63000.0],\n",
       "       [1.0, 0.0, 0.0, 26.0, 47000.0],\n",
       "       [0.0, 1.0, 0.0, 50.0, 83000.0]], dtype=object)"
      ]
     },
     "execution_count": 38,
     "metadata": {},
     "output_type": "execute_result"
    }
   ],
   "source": [
    "traing_input\n"
   ]
  },
  {
   "cell_type": "code",
   "execution_count": 39,
   "id": "88826c78-4574-401f-949b-3d61485f7e07",
   "metadata": {},
   "outputs": [
    {
     "data": {
      "text/plain": [
       "array([[1.0, 0.0, 0.0, 52.0, 88000.0],\n",
       "       [0.0, 0.0, 1.0, 38.0, 61000.0],\n",
       "       [0.0, 0.0, 1.0, 39.0, 52000.0],\n",
       "       [0.0, 1.0, 0.0, 40.0, 66071.42857142857],\n",
       "       [0.0, 0.0, 1.0, 27.0, 48000.0],\n",
       "       [0.0, 1.0, 0.0, 28.0, 49000.0],\n",
       "       [1.0, 0.0, 0.0, 49.0, 82000.0],\n",
       "       [0.0, 1.0, 0.0, 43.0, 74000.0],\n",
       "       [0.0, 0.0, 1.0, 34.0, 57000.0],\n",
       "       [0.0, 0.0, 1.0, 33.0, 56000.0],\n",
       "       [0.0, 1.0, 0.0, 45.0, 77000.0],\n",
       "       [0.0, 1.0, 0.0, 41.0, 71000.0],\n",
       "       [1.0, 0.0, 0.0, 29.0, 51000.0],\n",
       "       [1.0, 0.0, 0.0, 42.0, 75000.0],\n",
       "       [0.0, 1.0, 0.0, 30.0, 54000.0],\n",
       "       [0.0, 0.0, 1.0, 46.0, 78000.0],\n",
       "       [0.0, 1.0, 0.0, 25.0, 45000.0],\n",
       "       [0.0, 1.0, 0.0, 47.0, 80000.0],\n",
       "       [0.0, 0.0, 1.0, 51.0, 85000.0],\n",
       "       [0.0, 1.0, 0.0, 36.0, 66071.42857142857],\n",
       "       [1.0, 0.0, 0.0, 31.0, 55000.0],\n",
       "       [1.0, 0.0, 0.0, 44.0, 72000.0],\n",
       "       [1.0, 0.0, 0.0, 35.0, 58000.0],\n",
       "       [0.0, 0.0, 1.0, 32.0, 53000.0],\n",
       "       [0.0, 0.0, 1.0, 39.0, 63000.0],\n",
       "       [1.0, 0.0, 0.0, 26.0, 47000.0],\n",
       "       [0.0, 1.0, 0.0, 50.0, 83000.0]], dtype=object)"
      ]
     },
     "execution_count": 39,
     "metadata": {},
     "output_type": "execute_result"
    }
   ],
   "source": [
    "traing_input\n"
   ]
  },
  {
   "cell_type": "code",
   "execution_count": 40,
   "id": "9d393b59-894f-402f-8ce7-0033a9351724",
   "metadata": {},
   "outputs": [],
   "source": [
    "\n",
    "#help(DecisionTreeClassifier)\n"
   ]
  },
  {
   "cell_type": "code",
   "execution_count": 41,
   "id": "ed761bd4-eabc-4938-bd6b-4bb1ae83d35c",
   "metadata": {},
   "outputs": [],
   "source": [
    "# calling decision tree classifier\n",
    "classifier=DecisionTreeClassifier()"
   ]
  },
  {
   "cell_type": "code",
   "execution_count": 43,
   "id": "31f92cc9-da5a-4f09-a6b0-bd73fda7f0b0",
   "metadata": {},
   "outputs": [],
   "source": [
    "#training classifier with preprocess data\n",
    "trained_model=classifier.fit(traing_input,train_label)"
   ]
  },
  {
   "cell_type": "code",
   "execution_count": 44,
   "id": "9c7883a7-1956-4284-abdb-f4f277b77cf7",
   "metadata": {},
   "outputs": [],
   "source": [
    "predicted_values=trained_model.predict(testing_input)"
   ]
  },
  {
   "cell_type": "code",
   "execution_count": 45,
   "id": "729effc4-e0ac-46df-98d4-63fea7f8a3e7",
   "metadata": {},
   "outputs": [
    {
     "name": "stdout",
     "output_type": "stream",
     "text": [
      "[0 1 0]\n"
     ]
    }
   ],
   "source": [
    "print(predicted_values)"
   ]
  },
  {
   "cell_type": "code",
   "execution_count": 46,
   "id": "1b90c8de-0815-4abc-a564-4b8a5ed229a2",
   "metadata": {},
   "outputs": [
    {
     "name": "stdout",
     "output_type": "stream",
     "text": [
      "[1 0 1]\n"
     ]
    }
   ],
   "source": [
    "#actual\n",
    "print(test_label)"
   ]
  },
  {
   "cell_type": "code",
   "execution_count": 48,
   "id": "52ab144f-aaf2-4c39-a8e4-544c4180ec2d",
   "metadata": {},
   "outputs": [
    {
     "data": {
      "text/plain": [
       "0.0"
      ]
     },
     "execution_count": 48,
     "metadata": {},
     "output_type": "execute_result"
    }
   ],
   "source": [
    "\n",
    "\n",
    "#using acccuracy score\n",
    "accuracy_score(test_label,predicted_values)"
   ]
  },
  {
   "cell_type": "code",
   "execution_count": 53,
   "id": "a75e6dad-0d34-4f65-948d-27506cf1fdfc",
   "metadata": {},
   "outputs": [
    {
     "data": {
      "text/plain": [
       "<function matplotlib.pyplot.show(close=None, block=None)>"
      ]
     },
     "execution_count": 53,
     "metadata": {},
     "output_type": "execute_result"
    },
    {
     "data": {
      "image/png": "[encoded data removed]",
      "text/plain": [
       "<Figure size 2000x1000 with 1 Axes>"
      ]
     },
     "metadata": {},
     "output_type": "display_data"
    }
   ],
   "source": [
    "# We can use python to check decision tree graphx\n",
    "plt.figure(figsize=(20,10))\n",
    "plot_tree(classifier, feature_names=ct.get_feature_names_out(),\n",
    "         class_names=le.classes_,\n",
    "         filled=True,\n",
    "         fontsize=10,\n",
    "         rounded=True)\n",
    "plt.title(\"Decision Tree\")\n",
    "plt.show"
   ]
  },
  {
   "cell_type": "code",
   "execution_count": 50,
   "id": "100a9270-0d9b-4f85-aa0c-e36db39cacd0",
   "metadata": {},
   "outputs": [
    {
     "data": {
      "text/plain": [
       "array(['No', 'Yes'], dtype=object)"
      ]
     },
     "execution_count": 50,
     "metadata": {},
     "output_type": "execute_result"
    }
   ],
   "source": [
    "#features and label\n",
    "le.classes_"
   ]
  },
  {
   "cell_type": "code",
   "execution_count": 51,
   "id": "337fe419-f044-439b-97bf-a7303851890d",
   "metadata": {},
   "outputs": [
    {
     "data": {
      "text/plain": [
       "array(['encoder__x0_France', 'encoder__x0_Germany', 'encoder__x0_Spain',\n",
       "       'remainder__x1', 'remainder__x2'], dtype=object)"
      ]
     },
     "execution_count": 51,
     "metadata": {},
     "output_type": "execute_result"
    }
   ],
   "source": [
    "ct.get_feature_names_out()"
   ]
  },
  {
   "cell_type": "code",
   "execution_count": null,
   "id": "978a7c26-765b-4c00-8cee-51ec945ab1f9",
   "metadata": {},
   "outputs": [],
   "source": []
  }
 ],
 "metadata": {
  "kernelspec": {
   "display_name": "Python 3 (ipykernel)",
   "language": "python",
   "name": "python3"
  },
  "language_info": {
   "codemirror_mode": {
    "name": "ipython",
    "version": 3
   },
   "file_extension": ".py",
   "mimetype": "text/x-python",
   "name": "python",
   "nbconvert_exporter": "python",
   "pygments_lexer": "ipython3",
   "version": "3.12.3"
  }
 },
 "nbformat": 4,
 "nbformat_minor": 5
}
