{
 "cells": [
  {
   "cell_type": "code",
   "execution_count": 2,
   "id": "4db74bf0-d195-4fdf-a708-f271f3cf2515",
   "metadata": {},
   "outputs": [],
   "source": [
    "from openai import OpenAI"
   ]
  },
  {
   "cell_type": "code",
   "execution_count": null,
   "id": "e87b690e-707e-4b88-acec-18959847d95f",
   "metadata": {},
   "outputs": [],
   "source": [
    "api_key1=\"\""
   ]
  },
  {
   "cell_type": "code",
   "execution_count": 4,
   "id": "abfa3626-e50f-4232-b5d5-bccf7d2b7741",
   "metadata": {},
   "outputs": [],
   "source": [
    "client=OpenAI(api_key=api_key1)"
   ]
  },
  {
   "cell_type": "code",
   "execution_count": 15,
   "id": "f1325b6a-96e6-4fdc-bee7-45134e12ddf2",
   "metadata": {},
   "outputs": [],
   "source": [
    "response = client.responses.create(\n",
    "    model=\"gpt-4.1\",\n",
    "    input=\"Write a one-sentence bedtime story about a unicorn.\"\n",
    ")\n"
   ]
  },
  {
   "cell_type": "code",
   "execution_count": 16,
   "id": "9934c635-9035-4caa-9e6d-7043e1112ee5",
   "metadata": {},
   "outputs": [
    {
     "name": "stdout",
     "output_type": "stream",
     "text": [
      "Under a glittering moon, a gentle unicorn tiptoed across a dew-kissed meadow, leaving trails of sparkling dreams for every sleeping child.\n"
     ]
    }
   ],
   "source": [
    "print(response.output_text)\n"
   ]
  },
  {
   "cell_type": "code",
   "execution_count": null,
   "id": "293803f4-3368-49f9-baa6-a19cf734abfc",
   "metadata": {},
   "outputs": [],
   "source": []
  }
 ],
 "metadata": {
  "kernelspec": {
   "display_name": "Python 3 (ipykernel)",
   "language": "python",
   "name": "python3"
  },
  "language_info": {
   "codemirror_mode": {
    "name": "ipython",
    "version": 3
   },
   "file_extension": ".py",
   "mimetype": "text/x-python",
   "name": "python",
   "nbconvert_exporter": "python",
   "pygments_lexer": "ipython3",
   "version": "3.12.3"
  }
 },
 "nbformat": 4,
 "nbformat_minor": 5
}
