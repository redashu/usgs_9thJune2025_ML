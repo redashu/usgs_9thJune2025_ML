{
 "cells": [
  {
   "cell_type": "code",
   "execution_count": 2,
   "id": "bad24a9b-910f-423b-a872-d4ab10af3396",
   "metadata": {},
   "outputs": [],
   "source": [
    "from openai import OpenAI\n"
   ]
  },
  {
   "cell_type": "code",
   "execution_count": null,
   "id": "1758cc32-684a-4ef7-9c78-b9d1cb6038d4",
   "metadata": {},
   "outputs": [],
   "source": [
    "api_key1 = ''"
   ]
  },
  {
   "cell_type": "code",
   "execution_count": 6,
   "id": "2b7e228a-2679-4f4c-ae2c-f1cc4f3551d5",
   "metadata": {},
   "outputs": [
    {
     "name": "stdout",
     "output_type": "stream",
     "text": [
      "Why did the neural network break up with the decision tree?\n",
      "\n",
      "Because it couldn’t handle all the splits!\n"
     ]
    }
   ],
   "source": [
    "client = OpenAI(api_key=api_key1)\n",
    "\n",
    "response = client.responses.create(\n",
    "    model=\"gpt-4.1\",\n",
    "    input=\"Tell me a machine learning joke.\"\n",
    ")\n",
    "\n",
    "print(response.output_text)"
   ]
  },
  {
   "cell_type": "code",
   "execution_count": null,
   "id": "8f98bcf7-d4e6-4af4-9b61-e3f35e63c587",
   "metadata": {},
   "outputs": [],
   "source": []
  }
 ],
 "metadata": {
  "kernelspec": {
   "display_name": "Python 3 (ipykernel)",
   "language": "python",
   "name": "python3"
  },
  "language_info": {
   "codemirror_mode": {
    "name": "ipython",
    "version": 3
   },
   "file_extension": ".py",
   "mimetype": "text/x-python",
   "name": "python",
   "nbconvert_exporter": "python",
   "pygments_lexer": "ipython3",
   "version": "3.12.3"
  }
 },
 "nbformat": 4,
 "nbformat_minor": 5
}
