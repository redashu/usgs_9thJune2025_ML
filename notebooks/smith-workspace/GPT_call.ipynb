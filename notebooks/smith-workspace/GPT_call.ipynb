{
 "cells": [
  {
   "cell_type": "code",
   "execution_count": 6,
   "id": "fa0c50e5-8d4b-4ac9-8050-e552ed2bb11c",
   "metadata": {},
   "outputs": [],
   "source": [
    "from openai import OpenAI"
   ]
  },
  {
   "cell_type": "code",
   "execution_count": null,
   "id": "f93013df-7274-46e5-94ab-c002d1ac66a4",
   "metadata": {},
   "outputs": [],
   "source": [
    "#use API key provided by Ashu\n",
    "api_key1 = \"\""
   ]
  },
  {
   "cell_type": "code",
   "execution_count": 8,
   "id": "d1f8bc41-cb37-4d7d-89cd-986d08d31bf4",
   "metadata": {},
   "outputs": [],
   "source": [
    "client = OpenAI(api_key=api_key1)"
   ]
  },
  {
   "cell_type": "code",
   "execution_count": 16,
   "id": "560059be-66fd-4275-a234-0a0a66df97bb",
   "metadata": {},
   "outputs": [],
   "source": [
    "response = client.responses.create(\n",
    "    model = \"gpt-4.1\",\n",
    "    input = \"can you tell me a funny statistics joke?\"\n",
    ")"
   ]
  },
  {
   "cell_type": "code",
   "execution_count": 17,
   "id": "95fbdad4-7eec-4f82-b6b7-861e6823340b",
   "metadata": {},
   "outputs": [
    {
     "name": "stdout",
     "output_type": "stream",
     "text": [
      "Of course! Here’s one for you:\n",
      "\n",
      "**Why did the statistician drown crossing the river?**\n",
      "\n",
      "Because it was *on average* only three feet deep! 😄\n"
     ]
    }
   ],
   "source": [
    "print(response.output_text)"
   ]
  },
  {
   "cell_type": "code",
   "execution_count": 19,
   "id": "ba6d9be8-3101-4023-8ab2-cd034f087174",
   "metadata": {},
   "outputs": [
    {
     "name": "stdout",
     "output_type": "stream",
     "text": [
      "As of June 10, 2025, a notable positive news story is the successful reintroduction of beavers to England. After being hunted to extinction around 400 years ago, beavers are now returning to the English countryside. Ecologists highlight that their return is expected to boost biodiversity and help mitigate flooding. Tony Juniper, chair of Natural England, described this development as a “significant landmark for nature recovery in England.” ([positive.news](https://www.positive.news/society/good-news-stories-from-week-09-of-2025/?utm_source=openai)) \n"
     ]
    }
   ],
   "source": [
    "response_news = client.responses.create(\n",
    "    model=\"gpt-4.1\",\n",
    "    tools=[{\"type\": \"web_search_preview\"}],\n",
    "    input=\"What was a positive news story from today?\"\n",
    ")\n",
    "\n",
    "print(response_news.output_text)"
   ]
  },
  {
   "cell_type": "code",
   "execution_count": null,
   "id": "67276425-0259-4de3-981a-9281856051a2",
   "metadata": {},
   "outputs": [],
   "source": []
  },
  {
   "cell_type": "code",
   "execution_count": null,
   "id": "ab0dfa2d-8ae5-46e4-a81c-926147e85088",
   "metadata": {},
   "outputs": [],
   "source": []
  },
  {
   "cell_type": "code",
   "execution_count": null,
   "id": "7b9103b5-5698-4e44-8b7d-d393916c4699",
   "metadata": {},
   "outputs": [],
   "source": []
  },
  {
   "cell_type": "code",
   "execution_count": null,
   "id": "54777171-a204-4266-9c2a-d3cc2794aef8",
   "metadata": {},
   "outputs": [],
   "source": []
  },
  {
   "cell_type": "code",
   "execution_count": null,
   "id": "06a4a543-d90d-4f2d-a39b-fe671be4fd41",
   "metadata": {},
   "outputs": [],
   "source": []
  },
  {
   "cell_type": "code",
   "execution_count": null,
   "id": "fb72a49c-acb1-4622-988e-af06a92f2bfa",
   "metadata": {},
   "outputs": [],
   "source": []
  },
  {
   "cell_type": "code",
   "execution_count": null,
   "id": "b124db20-7d13-4595-9b17-72a804c9260b",
   "metadata": {},
   "outputs": [],
   "source": []
  },
  {
   "cell_type": "code",
   "execution_count": null,
   "id": "010462fd-a364-4676-9961-916a6031e00c",
   "metadata": {},
   "outputs": [],
   "source": []
  },
  {
   "cell_type": "code",
   "execution_count": null,
   "id": "3f03a4b4-c53f-46cb-9b06-946d0fa10408",
   "metadata": {},
   "outputs": [],
   "source": []
  }
 ],
 "metadata": {
  "kernelspec": {
   "display_name": "Python 3 (ipykernel)",
   "language": "python",
   "name": "python3"
  },
  "language_info": {
   "codemirror_mode": {
    "name": "ipython",
    "version": 3
   },
   "file_extension": ".py",
   "mimetype": "text/x-python",
   "name": "python",
   "nbconvert_exporter": "python",
   "pygments_lexer": "ipython3",
   "version": "3.12.3"
  }
 },
 "nbformat": 4,
 "nbformat_minor": 5
}
