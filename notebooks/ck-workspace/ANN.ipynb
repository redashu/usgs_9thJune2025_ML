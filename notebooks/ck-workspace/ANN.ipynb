{
 "cells": [
  {
   "cell_type": "markdown",
   "id": "a4cfc3fe",
   "metadata": {},
   "source": [
    "Day 3: Deep Learning - Artificial Neural Networks"
   ]
  },
  {
   "cell_type": "code",
   "execution_count": 8,
   "id": "9bbec65b",
   "metadata": {},
   "outputs": [
    {
     "ename": "ModuleNotFoundError",
     "evalue": "No module named 'pandas'",
     "output_type": "error",
     "traceback": [
      "\u001b[0;31m---------------------------------------------------------------------------\u001b[0m",
      "\u001b[0;31mModuleNotFoundError\u001b[0m                       Traceback (most recent call last)",
      "Cell \u001b[0;32mIn[8], line 4\u001b[0m\n\u001b[1;32m      1\u001b[0m get_ipython()\u001b[38;5;241m.\u001b[39msystem(\u001b[38;5;124m'\u001b[39m\u001b[38;5;124msource ./bin/activate\u001b[39m\u001b[38;5;124m'\u001b[39m)\n\u001b[1;32m      2\u001b[0m \u001b[38;5;66;03m# import tensorflow\u001b[39;00m\n\u001b[1;32m      3\u001b[0m \u001b[38;5;66;03m# import keras\u001b[39;00m\n\u001b[0;32m----> 4\u001b[0m \u001b[38;5;28;01mimport\u001b[39;00m \u001b[38;5;21;01mpandas\u001b[39;00m \u001b[38;5;28;01mas\u001b[39;00m \u001b[38;5;21;01mpd\u001b[39;00m\n\u001b[1;32m      5\u001b[0m \u001b[38;5;28;01mimport\u001b[39;00m \u001b[38;5;21;01msys\u001b[39;00m\n\u001b[1;32m      6\u001b[0m \u001b[38;5;28mprint\u001b[39m(sys\u001b[38;5;241m.\u001b[39mexecutable)\n",
      "\u001b[0;31mModuleNotFoundError\u001b[0m: No module named 'pandas'"
     ]
    }
   ],
   "source": [
    "!source ./bin/activate\n",
    "# import tensorflow\n",
    "# import keras\n",
    "import pandas as pd\n",
    "import sys\n",
    "print(sys.executable)"
   ]
  },
  {
   "cell_type": "code",
   "execution_count": null,
   "id": "0a1f9635",
   "metadata": {},
   "outputs": [],
   "source": [
    "url = \"https://delvex-software-center.s3.ap-south-1.amazonaws.com/USGS/all_month.csv\"\n",
    "df = pd.read_csv(url)\n",
    "df.info()\n",
    "# lat, long, depth\n",
    "# mag\n",
    "# train test split (80/20)"
   ]
  },
  {
   "cell_type": "code",
   "execution_count": null,
   "id": "b0557e05",
   "metadata": {},
   "outputs": [],
   "source": [
    "# Select cols of interest and assign to features & label\n",
    "features_want = ['latitude', 'longitude', 'depth']\n",
    "label_want = ['mag']\n",
    "\n"
   ]
  }
 ],
 "metadata": {
  "kernelspec": {
   "display_name": "Python 3 (ipykernel)",
   "language": "python",
   "name": "python3"
  },
  "language_info": {
   "codemirror_mode": {
    "name": "ipython",
    "version": 3
   },
   "file_extension": ".py",
   "mimetype": "text/x-python",
   "name": "python",
   "nbconvert_exporter": "python",
   "pygments_lexer": "ipython3",
   "version": "3.12.3"
  }
 },
 "nbformat": 4,
 "nbformat_minor": 5
}
