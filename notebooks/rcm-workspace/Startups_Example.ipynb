{
 "cells": [
  {
   "cell_type": "code",
   "execution_count": null,
   "id": "36fa36f9-d352-4fa8-af9d-e51d34544545",
   "metadata": {
    "editable": true,
    "slideshow": {
     "slide_type": ""
    },
    "tags": []
   },
   "outputs": [],
   "source": []
  },
  {
   "cell_type": "code",
   "execution_count": 1,
   "id": "cfc07675-8f07-4321-9c05-dca22954e858",
   "metadata": {},
   "outputs": [],
   "source": [
    "import pandas as pd\n",
    "import numpy as np\n",
    "from sklearn.impute import SimpleImputer\n",
    "from sklearn.preprocessing import LabelEncoder # label encoder for binary class in single column\n",
    "from sklearn.compose import ColumnTransformer # catecorigal encode for >2 class in single column\n",
    "from sklearn.preprocessing import OneHotEncoder\n",
    "from sklearn.model_selection import train_test_split\n"
   ]
  },
  {
   "cell_type": "code",
   "execution_count": 2,
   "id": "ae420c0e-1543-456a-be5e-f1a452ec4520",
   "metadata": {},
   "outputs": [],
   "source": [
    "url='https://raw.githubusercontent.com/redashu/Datasets/refs/heads/master/Startups_Data.csv'"
   ]
  },
  {
   "cell_type": "code",
   "execution_count": 3,
   "id": "4bbcc6c4-0daa-468d-8305-b6facf79b3d8",
   "metadata": {},
   "outputs": [],
   "source": [
    "df=pd.read_csv(url)"
   ]
  },
  {
   "cell_type": "code",
   "execution_count": 4,
   "id": "253ffe63-44e6-41e2-8dcb-ab5f13792f62",
   "metadata": {},
   "outputs": [],
   "source": [
    "#print(df)"
   ]
  },
  {
   "cell_type": "code",
   "execution_count": 5,
   "id": "60b8db73-316d-4d7c-a842-596e33f2d40e",
   "metadata": {},
   "outputs": [],
   "source": [
    "#df.info()"
   ]
  },
  {
   "cell_type": "code",
   "execution_count": 6,
   "id": "23559532-01ad-496a-b05c-20a3cd9fe0a9",
   "metadata": {},
   "outputs": [],
   "source": [
    "#df.iloc[:,2]"
   ]
  },
  {
   "cell_type": "code",
   "execution_count": 7,
   "id": "27c961f0-a405-4715-8913-aae3cd019e25",
   "metadata": {},
   "outputs": [],
   "source": [
    "input_features=df.iloc[:,0:4].values\n",
    "label = df.iloc[:,-1].values"
   ]
  },
  {
   "cell_type": "code",
   "execution_count": 8,
   "id": "bbc7cea9-4dae-4976-a35a-f3c45c80fff1",
   "metadata": {
    "editable": true,
    "slideshow": {
     "slide_type": ""
    },
    "tags": []
   },
   "outputs": [],
   "source": [
    "#label"
   ]
  },
  {
   "cell_type": "code",
   "execution_count": 9,
   "id": "548dfe9d-f22a-416c-bfab-d5ed6c7444f3",
   "metadata": {},
   "outputs": [],
   "source": [
    "#input_features"
   ]
  },
  {
   "cell_type": "code",
   "execution_count": 10,
   "id": "3920e80d-7632-451e-866b-6ea10b36a59d",
   "metadata": {},
   "outputs": [],
   "source": [
    "#fixing age and salary missing value\n",
    "rcm_impute = SimpleImputer(missing_values=0,strategy='mean')"
   ]
  },
  {
   "cell_type": "code",
   "execution_count": 11,
   "id": "d43dffc1-0ffc-43b1-a98c-8a76e88c33cc",
   "metadata": {
    "editable": true,
    "slideshow": {
     "slide_type": ""
    },
    "tags": []
   },
   "outputs": [],
   "source": [
    "rcm_impute.fit(input_features[:,0:3]) # calculating missing values\n",
    "input_features[:,0:3] = rcm_impute.transform(input_features[:,0:3]) # making changes\n",
    "\n",
    "#input_features"
   ]
  },
  {
   "cell_type": "code",
   "execution_count": 2,
   "id": "954bfdc1-559b-4bc8-85eb-edb5402e3dec",
   "metadata": {},
   "outputs": [],
   "source": [
    "# conver 2 values to 0 and 1 (labels)\n",
    "#le=LabelEncoder()\n",
    "#label = le.fit_transform(label)\n",
    "#print(label)\n"
   ]
  },
  {
   "cell_type": "code",
   "execution_count": 13,
   "id": "d57130d9-cd68-4ee2-96ea-4c69a98fea70",
   "metadata": {},
   "outputs": [],
   "source": [
    "# data preprocessing using categorical values\n",
    "ct=ColumnTransformer(transformers=[('encoder',OneHotEncoder(),[3])],remainder='passthrough')"
   ]
  },
  {
   "cell_type": "code",
   "execution_count": 14,
   "id": "00a91dd1-3b54-4b71-ac88-26f64a8d0483",
   "metadata": {},
   "outputs": [],
   "source": [
    "input_features=np.array(ct.fit_transform(input_features))\n",
    "#print(input_features)"
   ]
  },
  {
   "cell_type": "code",
   "execution_count": 15,
   "id": "b84c34ca-72fb-40d7-8a76-f3d8006ea67b",
   "metadata": {},
   "outputs": [],
   "source": [
    "# finally have input (features) and output (labels) for ML algorithm\n",
    "# note test_size (0 to 1) ---0.1 means 10% testing data size\n",
    "training_input, testing_input, train_label, test_label = train_test_split(input_features,label,test_size=0.1)\n"
   ]
  },
  {
   "cell_type": "code",
   "execution_count": 1,
   "id": "40d5de33-7422-4251-9780-901a6e688762",
   "metadata": {},
   "outputs": [],
   "source": [
    "#testing_input"
   ]
  },
  {
   "cell_type": "code",
   "execution_count": null,
   "id": "4a151845-a197-41ae-a011-8c6b632d79a9",
   "metadata": {},
   "outputs": [],
   "source": []
  }
 ],
 "metadata": {
  "kernelspec": {
   "display_name": "Python 3 (ipykernel)",
   "language": "python",
   "name": "python3"
  },
  "language_info": {
   "codemirror_mode": {
    "name": "ipython",
    "version": 3
   },
   "file_extension": ".py",
   "mimetype": "text/x-python",
   "name": "python",
   "nbconvert_exporter": "python",
   "pygments_lexer": "ipython3",
   "version": "3.12.3"
  }
 },
 "nbformat": 4,
 "nbformat_minor": 5
}
