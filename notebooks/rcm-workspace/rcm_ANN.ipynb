{
 "cells": [
  {
   "cell_type": "code",
   "execution_count": 2,
   "id": "05afbe61",
   "metadata": {},
   "outputs": [
    {
     "ename": "ModuleNotFoundError",
     "evalue": "No module named 'pandas'",
     "output_type": "error",
     "traceback": [
      "\u001b[0;31m---------------------------------------------------------------------------\u001b[0m",
      "\u001b[0;31mModuleNotFoundError\u001b[0m                       Traceback (most recent call last)",
      "Cell \u001b[0;32mIn[2], line 1\u001b[0m\n\u001b[0;32m----> 1\u001b[0m \u001b[38;5;28;01mimport\u001b[39;00m \u001b[38;5;21;01mpandas\u001b[39;00m \u001b[38;5;28;01mas\u001b[39;00m \u001b[38;5;21;01mpd\u001b[39;00m\n\u001b[1;32m      2\u001b[0m \u001b[38;5;28;01mimport\u001b[39;00m \u001b[38;5;21;01mnumpy\u001b[39;00m \u001b[38;5;28;01mas\u001b[39;00m \u001b[38;5;21;01mnp\u001b[39;00m\n\u001b[1;32m      3\u001b[0m \u001b[38;5;28;01mfrom\u001b[39;00m \u001b[38;5;21;01msklearn\u001b[39;00m\u001b[38;5;21;01m.\u001b[39;00m\u001b[38;5;21;01mimpute\u001b[39;00m \u001b[38;5;28;01mimport\u001b[39;00m SimpleImputer\n",
      "\u001b[0;31mModuleNotFoundError\u001b[0m: No module named 'pandas'"
     ]
    }
   ],
   "source": [
    "import pandas as pd\n",
    "import numpy as np\n",
    "from sklearn.impute import SimpleImputer\n",
    "from sklearn.model_selection import train_test_split\n",
    "#calling Regression model\n",
    "from sklearn.ensemble import RandomForestRegressor\n",
    "# calling plot\n",
    "import matplotlib.pyplot as plt\n",
    "import seaborn as sb\n",
    "from sklearn.tree import plot_tree\n",
    "from sklearn.metrics import mean_squared_error , r2_score , mean_absolute_error , root_mean_squared_error"
   ]
  },
  {
   "cell_type": "code",
   "execution_count": 7,
   "id": "ee6612cc",
   "metadata": {},
   "outputs": [],
   "source": [
    "url='https://delvex-software-center.s3.ap-south-1.amazonaws.com/USGS/all_month.csv'"
   ]
  },
  {
   "cell_type": "code",
   "execution_count": 8,
   "id": "ab6560a4",
   "metadata": {},
   "outputs": [
    {
     "ename": "NameError",
     "evalue": "name 'pd' is not defined",
     "output_type": "error",
     "traceback": [
      "\u001b[0;31m---------------------------------------------------------------------------\u001b[0m",
      "\u001b[0;31mNameError\u001b[0m                                 Traceback (most recent call last)",
      "Cell \u001b[0;32mIn[8], line 1\u001b[0m\n\u001b[0;32m----> 1\u001b[0m EQdf\u001b[38;5;241m=\u001b[39m\u001b[43mpd\u001b[49m\u001b[38;5;241m.\u001b[39mread_csv(url)\n",
      "\u001b[0;31mNameError\u001b[0m: name 'pd' is not defined"
     ]
    }
   ],
   "source": [
    "input_features=['latitude','longitude','depth']\n",
    "label = 'mag'"
   ]
  },
  {
   "cell_type": "code",
   "execution_count": 9,
   "id": "37af9c81",
   "metadata": {},
   "outputs": [
    {
     "ename": "NameError",
     "evalue": "name 'EQdf' is not defined",
     "output_type": "error",
     "traceback": [
      "\u001b[0;31m---------------------------------------------------------------------------\u001b[0m",
      "\u001b[0;31mNameError\u001b[0m                                 Traceback (most recent call last)",
      "Cell \u001b[0;32mIn[9], line 1\u001b[0m\n\u001b[0;32m----> 1\u001b[0m EQdf[col] \u001b[38;5;241m=\u001b[39m \u001b[43mEQdf\u001b[49m[col]\u001b[38;5;241m.\u001b[39mfillna(EQdf[col]\u001b[38;5;241m.\u001b[39mmedian())\n",
      "\u001b[0;31mNameError\u001b[0m: name 'EQdf' is not defined"
     ]
    }
   ],
   "source": [
    "#drop any nan values\n",
    "EQdf = EQdf.dropna(subset=[label]) "
   ]
  },
  {
   "cell_type": "code",
   "execution_count": 10,
   "id": "3e992d82",
   "metadata": {},
   "outputs": [
    {
     "ename": "NameError",
     "evalue": "name 'input_features' is not defined",
     "output_type": "error",
     "traceback": [
      "\u001b[0;31m---------------------------------------------------------------------------\u001b[0m",
      "\u001b[0;31mNameError\u001b[0m                                 Traceback (most recent call last)",
      "Cell \u001b[0;32mIn[10], line 2\u001b[0m\n\u001b[1;32m      1\u001b[0m \u001b[38;5;66;03m# set median value to nan in features\u001b[39;00m\n\u001b[0;32m----> 2\u001b[0m \u001b[38;5;28;01mfor\u001b[39;00m col \u001b[38;5;129;01min\u001b[39;00m \u001b[43minput_features\u001b[49m:\n\u001b[1;32m      3\u001b[0m     EQdf[col] \u001b[38;5;241m=\u001b[39m EQdf[col]\u001b[38;5;241m.\u001b[39mfillna(EQdf[col]\u001b[38;5;241m.\u001b[39mmedian())\n",
      "\u001b[0;31mNameError\u001b[0m: name 'input_features' is not defined"
     ]
    }
   ],
   "source": [
    "# set median value to nan in features\n",
    "for col in input_features:\n",
    "    EQdf[col] = EQdf[col].fillna(EQdf[col].median())"
   ]
  },
  {
   "cell_type": "code",
   "execution_count": 11,
   "id": "28d02649",
   "metadata": {},
   "outputs": [
    {
     "ename": "NameError",
     "evalue": "name 'EQdf' is not defined",
     "output_type": "error",
     "traceback": [
      "\u001b[0;31m---------------------------------------------------------------------------\u001b[0m",
      "\u001b[0;31mNameError\u001b[0m                                 Traceback (most recent call last)",
      "Cell \u001b[0;32mIn[11], line 2\u001b[0m\n\u001b[1;32m      1\u001b[0m \u001b[38;5;66;03m# reconsider features and labels\u001b[39;00m\n\u001b[0;32m----> 2\u001b[0m feature_data \u001b[38;5;241m=\u001b[39m \u001b[43mEQdf\u001b[49m[input_features]\n\u001b[1;32m      3\u001b[0m label_data \u001b[38;5;241m=\u001b[39m EQdf[label]\n",
      "\u001b[0;31mNameError\u001b[0m: name 'EQdf' is not defined"
     ]
    }
   ],
   "source": [
    "# reconsider features and labels\n",
    "feature_data = EQdf[input_features]\n",
    "label_data = EQdf[label]"
   ]
  },
  {
   "cell_type": "code",
   "execution_count": 12,
   "id": "097cab9b",
   "metadata": {},
   "outputs": [
    {
     "ename": "NameError",
     "evalue": "name 'train_test_split' is not defined",
     "output_type": "error",
     "traceback": [
      "\u001b[0;31m---------------------------------------------------------------------------\u001b[0m",
      "\u001b[0;31mNameError\u001b[0m                                 Traceback (most recent call last)",
      "Cell \u001b[0;32mIn[12], line 2\u001b[0m\n\u001b[1;32m      1\u001b[0m \u001b[38;5;66;03m# split data into training/testing\u001b[39;00m\n\u001b[0;32m----> 2\u001b[0m training_ft, testing_ft, train_lb, test_lb \u001b[38;5;241m=\u001b[39m \u001b[43mtrain_test_split\u001b[49m(feature_data,label_data,test_size\u001b[38;5;241m=\u001b[39m\u001b[38;5;241m0.2\u001b[39m,random_state\u001b[38;5;241m=\u001b[39m\u001b[38;5;241m100\u001b[39m)\n",
      "\u001b[0;31mNameError\u001b[0m: name 'train_test_split' is not defined"
     ]
    }
   ],
   "source": [
    "# split data into training/testing\n",
    "training_ft, testing_ft, train_lb, test_lb = train_test_split(feature_data,label_data,test_size=0.2,random_state=100)"
   ]
  },
  {
   "cell_type": "code",
   "execution_count": null,
   "id": "ea1c4331",
   "metadata": {},
   "outputs": [],
   "source": []
  }
 ],
 "metadata": {
  "kernelspec": {
   "display_name": "Python 3 (ipykernel)",
   "language": "python",
   "name": "python3"
  },
  "language_info": {
   "codemirror_mode": {
    "name": "ipython",
    "version": 3
   },
   "file_extension": ".py",
   "mimetype": "text/x-python",
   "name": "python",
   "nbconvert_exporter": "python",
   "pygments_lexer": "ipython3",
   "version": "3.12.3"
  }
 },
 "nbformat": 4,
 "nbformat_minor": 5
}
