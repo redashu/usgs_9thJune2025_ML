{
 "cells": [
  {
   "cell_type": "code",
   "execution_count": 1,
   "id": "f9c82cc6-cdad-4d33-baae-f745a8cd8aee",
   "metadata": {},
   "outputs": [],
   "source": [
    "from openai import OpenAI\n"
   ]
  },
  {
   "cell_type": "code",
   "execution_count": null,
   "id": "1fc3c407-df6e-415a-9ca4-b57d6fe318c6",
   "metadata": {},
   "outputs": [],
   "source": [
    "api_key1=\"\""
   ]
  },
  {
   "cell_type": "code",
   "execution_count": 6,
   "id": "1f043564-1efc-4014-8005-61ac90df6c0d",
   "metadata": {},
   "outputs": [
    {
     "name": "stdout",
     "output_type": "stream",
     "text": [
      "Sure! Here is a simple ASCII drawing of a unicorn:\n",
      "\n",
      "```\n",
      "            /\n",
      "   __     //\n",
      "  /  \\.-\"\"\"(  \n",
      "  \\    o    \\    \n",
      "   |        |\\\n",
      "   |        | \\\n",
      "   ;     _  ;  ;\n",
      "    \\   (_)    /\n",
      "     `-.___.-'\n",
      "```\n",
      "\n",
      "Let me know if you want a more intricate drawing or if you'd like a unicorn in a different style! 🦄\n"
     ]
    }
   ],
   "source": [
    "client = OpenAI(api_key=api_key1)\n",
    "\n",
    "response = client.responses.create(\n",
    "    model=\"gpt-4.1\",\n",
    "    input=\"draw me a unicorn.\"\n",
    ")\n",
    "\n",
    "print(response.output_text)"
   ]
  },
  {
   "cell_type": "code",
   "execution_count": null,
   "id": "4b24ce13-2a76-4079-b145-13e7b319e4a3",
   "metadata": {},
   "outputs": [],
   "source": []
  }
 ],
 "metadata": {
  "kernelspec": {
   "display_name": "Python 3 (ipykernel)",
   "language": "python",
   "name": "python3"
  },
  "language_info": {
   "codemirror_mode": {
    "name": "ipython",
    "version": 3
   },
   "file_extension": ".py",
   "mimetype": "text/x-python",
   "name": "python",
   "nbconvert_exporter": "python",
   "pygments_lexer": "ipython3",
   "version": "3.12.3"
  }
 },
 "nbformat": 4,
 "nbformat_minor": 5
}
