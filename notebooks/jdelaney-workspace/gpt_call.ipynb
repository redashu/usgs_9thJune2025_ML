{
 "cells": [
  {
   "cell_type": "code",
   "execution_count": 3,
   "id": "7acdf453-c84c-453e-9648-78c05bf60a58",
   "metadata": {},
   "outputs": [],
   "source": [
    "from openai import OpenAI"
   ]
  },
  {
   "cell_type": "code",
   "execution_count": null,
   "id": "05ec02d0-1e74-4741-8dff-59e45edf935b",
   "metadata": {},
   "outputs": [],
   "source": [
    "api_key1 = \"\""
   ]
  },
  {
   "cell_type": "code",
   "execution_count": 8,
   "id": "3b5eb416-dd96-43a9-8f6a-6e774ce03881",
   "metadata": {},
   "outputs": [
    {
     "name": "stdout",
     "output_type": "stream",
     "text": [
      "Sure! Here you go:\n",
      "\n",
      "Why did the scarecrow win an award?\n",
      "\n",
      "Because he was outstanding in his field! 🌾😄\n"
     ]
    }
   ],
   "source": [
    "\n",
    "client = OpenAI(api_key=api_key1)\n",
    "\n",
    "response = client.responses.create(\n",
    "    model = \"gpt-4.1\",\n",
    "    input = \"Can you tell me a joke\"\n",
    ")\n",
    "\n",
    "print(response.output_text)"
   ]
  },
  {
   "cell_type": "code",
   "execution_count": null,
   "id": "b41e5e5a-9c26-4d28-8251-b4d5d6445952",
   "metadata": {},
   "outputs": [],
   "source": []
  }
 ],
 "metadata": {
  "kernelspec": {
   "display_name": "Python 3 (ipykernel)",
   "language": "python",
   "name": "python3"
  },
  "language_info": {
   "codemirror_mode": {
    "name": "ipython",
    "version": 3
   },
   "file_extension": ".py",
   "mimetype": "text/x-python",
   "name": "python",
   "nbconvert_exporter": "python",
   "pygments_lexer": "ipython3",
   "version": "3.12.3"
  }
 },
 "nbformat": 4,
 "nbformat_minor": 5
}
