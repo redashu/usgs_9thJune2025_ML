{
 "cells": [
  {
   "cell_type": "code",
   "execution_count": 7,
   "id": "fac7e1ec-94a6-4201-9c33-764ae67d0fef",
   "metadata": {},
   "outputs": [],
   "source": [
    "from openai import OpenAI"
   ]
  },
  {
   "cell_type": "code",
   "execution_count": null,
   "id": "642d258a-58d6-4ab3-9a56-0c56a43d23d6",
   "metadata": {},
   "outputs": [],
   "source": [
    "api-key = \"\""
   ]
  },
  {
   "cell_type": "code",
   "execution_count": 9,
   "id": "97a48029-1d9c-440b-ae69-11f1faced0e5",
   "metadata": {},
   "outputs": [],
   "source": [
    "client=OpenAI(api_key=apikey)"
   ]
  },
  {
   "cell_type": "code",
   "execution_count": 22,
   "id": "bc934c58-0bbb-49d5-ae1c-d6ec976594c0",
   "metadata": {},
   "outputs": [],
   "source": [
    "response = client.responses.create(\n",
    "    model= \"gpt-4.1\",\n",
    "    input= \"Tell me a one sentence scary story.\"\n",
    ")"
   ]
  },
  {
   "cell_type": "code",
   "execution_count": 23,
   "id": "82d3e547-a5b1-4a41-aab3-b684d9ff177d",
   "metadata": {},
   "outputs": [
    {
     "name": "stdout",
     "output_type": "stream",
     "text": [
      "Every night, I hear my mother call me from the kitchen, but she’s been dead in her room for months.\n"
     ]
    }
   ],
   "source": [
    "print(response.output_text)"
   ]
  },
  {
   "cell_type": "code",
   "execution_count": null,
   "id": "d187e9ce-bdb3-465f-a0d1-1574aae56b82",
   "metadata": {},
   "outputs": [],
   "source": []
  }
 ],
 "metadata": {
  "kernelspec": {
   "display_name": "Python 3 (ipykernel)",
   "language": "python",
   "name": "python3"
  },
  "language_info": {
   "codemirror_mode": {
    "name": "ipython",
    "version": 3
   },
   "file_extension": ".py",
   "mimetype": "text/x-python",
   "name": "python",
   "nbconvert_exporter": "python",
   "pygments_lexer": "ipython3",
   "version": "3.12.3"
  }
 },
 "nbformat": 4,
 "nbformat_minor": 5
}
