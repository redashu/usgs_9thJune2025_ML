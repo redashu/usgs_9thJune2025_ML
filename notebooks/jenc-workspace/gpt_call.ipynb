{
 "cells": [
  {
   "cell_type": "code",
   "execution_count": null,
   "id": "16cd5af4-da25-40c9-9460-e4e03a47d704",
   "metadata": {},
   "outputs": [
    {
     "name": "stdout",
     "output_type": "stream",
     "text": [
      "You can **export a CSV with specific tags from images** using `exiftool` easily. Here’s how:\n",
      "\n",
      "## Step-by-step\n",
      "\n",
      "### 1. Identify the tags you want\n",
      "\n",
      "For example, suppose you want: **DateTimeOriginal, Model, and GPSLatitude**\n",
      "\n",
      "### 2. Use the exiftool command\n",
      "\n",
      "The basic csv export syntax:\n",
      "```bash\n",
      "exiftool -csv -TAG1 -TAG2 -TAG3 input.jpg > output.csv\n",
      "```\n",
      "\n",
      "**Example with multiple files:**\n",
      "```bash\n",
      "exiftool -csv -DateTimeOriginal -Model -GPSLatitude *.jpg > metadata.csv\n",
      "```\n",
      "This will:\n",
      "- Extract these three tags from all `*.jpg` files in the directory,\n",
      "- Write a CSV file `metadata.csv`.\n",
      "\n",
      "### 3. If you want all images in a folder and subfolders\n",
      "Add `-r` (recurse):\n",
      "```bash\n",
      "exiftool -csv -DateTimeOriginal -Model -GPSLatitude -r . > metadata.csv\n",
      "```\n",
      "\n",
      "### 4. The headers in the CSV\n",
      "The first row will be the headers (tags), and each subsequent row will be for each file.\n",
      "\n",
      "---\n",
      "\n",
      "## **Summary**\n",
      "\n",
      "- List tags you want with `-TAGNAME` arguments.\n",
      "- Use `-csv` to generate CSV.\n",
      "- Pipe output to `> output.csv`.\n",
      "\n",
      "---\n",
      "\n",
      "### **Example command for your use:**\n",
      "```bash\n",
      "exiftool -csv -DateTimeOriginal -Model -Orientation images/*.jpg > selected_tags.csv\n",
      "```\n",
      "\n",
      "Replace tag names and file patterns as required!\n",
      "\n",
      "---\n",
      "\n",
      "**Tip:**  \n",
      "To see all tag names for a file:  \n",
      "```bash\n",
      "exiftool -s input.jpg\n",
      "```\n",
      "\n",
      "Let me know if you need help with specific tags!\n"
     ]
    }
   ],
   "source": [
    "from openai import OpenAI\n",
    "api_key = \"\"\n",
    "client = OpenAI(api_key=api_key)\n",
    "\n",
    "response = client.responses.create(\n",
    "    model=\"gpt-4.1\",\n",
    "    input=\"How do I export a csv with specific tags from an image using exiftool?\"\n",
    ")\n",
    "\n",
    "print(response.output_text)"
   ]
  },
  {
   "cell_type": "code",
   "execution_count": null,
   "id": "3a2403d8-13ff-4d4c-99ec-9833273c048d",
   "metadata": {},
   "outputs": [],
   "source": []
  }
 ],
 "metadata": {
  "kernelspec": {
   "display_name": "Python 3 (ipykernel)",
   "language": "python",
   "name": "python3"
  },
  "language_info": {
   "codemirror_mode": {
    "name": "ipython",
    "version": 3
   },
   "file_extension": ".py",
   "mimetype": "text/x-python",
   "name": "python",
   "nbconvert_exporter": "python",
   "pygments_lexer": "ipython3",
   "version": "3.12.3"
  }
 },
 "nbformat": 4,
 "nbformat_minor": 5
}
