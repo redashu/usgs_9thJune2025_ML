{
 "cells": [
  {
   "cell_type": "code",
   "execution_count": 1,
   "id": "be229124-955b-4692-bf3c-12b8309c7fc8",
   "metadata": {},
   "outputs": [],
   "source": [
    "from openai import OpenAI"
   ]
  },
  {
   "cell_type": "code",
   "execution_count": null,
   "id": "9da9ae3d-d06f-4810-b381-6b9fa28edc8f",
   "metadata": {},
   "outputs": [],
   "source": [
    "api_key1=\"\""
   ]
  },
  {
   "cell_type": "code",
   "execution_count": 9,
   "id": "c677d9f7-9748-4b7b-a7a1-38a284be4c68",
   "metadata": {},
   "outputs": [],
   "source": [
    "client = OpenAI(api_key=api_key1)"
   ]
  },
  {
   "cell_type": "code",
   "execution_count": 12,
   "id": "ee591de1-d1c7-4092-ad29-2d6bdd16ad16",
   "metadata": {},
   "outputs": [],
   "source": [
    "response = client.responses.create(\n",
    "    model=\"gpt-4.1\",\n",
    "    input=\"can you tell me a joke.\"\n",
    ")"
   ]
  },
  {
   "cell_type": "code",
   "execution_count": 14,
   "id": "06a79546-dba5-4797-aee4-3997a8749f61",
   "metadata": {},
   "outputs": [
    {
     "name": "stdout",
     "output_type": "stream",
     "text": [
      "Of course! Here you go:\n",
      "\n",
      "Why did the scarecrow win an award?\n",
      "\n",
      "Because he was outstanding in his field! 🌾😂\n"
     ]
    }
   ],
   "source": [
    "print(response.output_text)"
   ]
  },
  {
   "cell_type": "code",
   "execution_count": null,
   "id": "3fee4658-4530-4674-8e0d-d51d9aba5282",
   "metadata": {},
   "outputs": [],
   "source": [
    "response = client.responses.create(\n",
    "    model=\"gpt-4.1\",\n",
    "    input=\"can you tell me a joke.\"\n",
    ")"
   ]
  }
 ],
 "metadata": {
  "kernelspec": {
   "display_name": "Python 3 (ipykernel)",
   "language": "python",
   "name": "python3"
  },
  "language_info": {
   "codemirror_mode": {
    "name": "ipython",
    "version": 3
   },
   "file_extension": ".py",
   "mimetype": "text/x-python",
   "name": "python",
   "nbconvert_exporter": "python",
   "pygments_lexer": "ipython3",
   "version": "3.12.3"
  }
 },
 "nbformat": 4,
 "nbformat_minor": 5
}
