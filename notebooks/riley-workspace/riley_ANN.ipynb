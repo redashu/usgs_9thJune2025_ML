{
 "cells": [
  {
   "cell_type": "code",
   "execution_count": 1,
   "id": "c3329224",
   "metadata": {},
   "outputs": [],
   "source": [
    "!source ./bin/activate"
   ]
  },
  {
   "cell_type": "code",
   "execution_count": 2,
   "id": "8fd68048",
   "metadata": {},
   "outputs": [
    {
     "ename": "ModuleNotFoundError",
     "evalue": "No module named 'pandas'",
     "output_type": "error",
     "traceback": [
      "\u001b[0;31m---------------------------------------------------------------------------\u001b[0m",
      "\u001b[0;31mModuleNotFoundError\u001b[0m                       Traceback (most recent call last)",
      "Cell \u001b[0;32mIn[2], line 1\u001b[0m\n\u001b[0;32m----> 1\u001b[0m \u001b[38;5;28;01mimport\u001b[39;00m \u001b[38;5;21;01mpandas\u001b[39;00m \u001b[38;5;28;01mas\u001b[39;00m \u001b[38;5;21;01mpd\u001b[39;00m\n\u001b[1;32m      2\u001b[0m \u001b[38;5;28;01mimport\u001b[39;00m \u001b[38;5;21;01mmatplotlib\u001b[39;00m\u001b[38;5;21;01m.\u001b[39;00m\u001b[38;5;21;01mpyplot\u001b[39;00m \u001b[38;5;28;01mas\u001b[39;00m \u001b[38;5;21;01mplt\u001b[39;00m \n\u001b[1;32m      3\u001b[0m \u001b[38;5;28;01mimport\u001b[39;00m \u001b[38;5;21;01mseaborn\u001b[39;00m \u001b[38;5;28;01mas\u001b[39;00m \u001b[38;5;21;01msb\u001b[39;00m \n",
      "\u001b[0;31mModuleNotFoundError\u001b[0m: No module named 'pandas'"
     ]
    }
   ],
   "source": [
    "import pandas as pd\n",
    "import matplotlib.pyplot as plt \n",
    "import seaborn as sb \n",
    "from sklearn.model_selection import train_test_split "
   ]
  },
  {
   "cell_type": "code",
   "execution_count": null,
   "id": "af8bd848",
   "metadata": {},
   "outputs": [],
   "source": [
    "url = \"https://delvex-software-center.s3.ap-south-1.amazonaws.com/USGS/all_month.csv\"\n",
    "df = pd.read_csv(url)"
   ]
  },
  {
   "cell_type": "code",
   "execution_count": null,
   "id": "cb6d1277",
   "metadata": {},
   "outputs": [],
   "source": [
    "#choosing features and labels for regression \n",
    "features = ['latitude', 'longitude', 'depth']\n",
    "label = 'mag' "
   ]
  },
  {
   "cell_type": "code",
   "execution_count": null,
   "id": "0674cda4",
   "metadata": {},
   "outputs": [],
   "source": [
    "#data preprocessing\n",
    "df = df.dropna(subset=[label])"
   ]
  },
  {
   "cell_type": "code",
   "execution_count": null,
   "id": "d81105d7",
   "metadata": {},
   "outputs": [],
   "source": [
    "df "
   ]
  },
  {
   "cell_type": "code",
   "execution_count": null,
   "id": "6d488bfd",
   "metadata": {},
   "outputs": [],
   "source": [
    "#doing in features \n",
    "for col in features: \n",
    "    df[col] = df[col].fillna(df[col].median())"
   ]
  },
  {
   "cell_type": "code",
   "execution_count": null,
   "id": "7827069f",
   "metadata": {},
   "outputs": [],
   "source": [
    "#getting features and label \n",
    "feature_data = df[features] \n",
    "label_data =  df[label] "
   ]
  },
  {
   "cell_type": "code",
   "execution_count": null,
   "id": "ff44ccbb",
   "metadata": {},
   "outputs": [],
   "source": [
    "#split and train \n",
    "train_ft, test_ft, train_lb, test_lb = train_test_split(feature_data,label_data, test_size = 0.2, random_state=100)"
   ]
  }
 ],
 "metadata": {
  "kernelspec": {
   "display_name": "Python 3 (ipykernel)",
   "language": "python",
   "name": "python3"
  },
  "language_info": {
   "codemirror_mode": {
    "name": "ipython",
    "version": 3
   },
   "file_extension": ".py",
   "mimetype": "text/x-python",
   "name": "python",
   "nbconvert_exporter": "python",
   "pygments_lexer": "ipython3",
   "version": "3.12.3"
  }
 },
 "nbformat": 4,
 "nbformat_minor": 5
}
