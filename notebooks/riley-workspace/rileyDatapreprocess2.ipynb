{
 "cells": [
  {
   "cell_type": "code",
   "execution_count": 1,
   "id": "c367aae3-8925-450d-93f4-6f00caea8749",
   "metadata": {},
   "outputs": [],
   "source": [
    "!source ./bin/activate"
   ]
  },
  {
   "cell_type": "code",
   "execution_count": 2,
   "id": "6365a4c5-c103-4981-9f85-705cf57e0f0d",
   "metadata": {},
   "outputs": [],
   "source": [
    "# importing python libs \n",
    "import pandas as pd \n",
    "from sklearn.impute import SimpleImputer # fixing missing values \n",
    "import numpy as np\n",
    "from sklearn.preprocessing import LabelEncoder # label encoding for 2 values in single column\n",
    "from sklearn.compose import ColumnTransformer\n",
    "from sklearn.preprocessing import OneHotEncoder"
   ]
  },
  {
   "cell_type": "code",
   "execution_count": 3,
   "id": "b07fd88a-2bba-486c-a991-55482f03b078",
   "metadata": {},
   "outputs": [
    {
     "name": "stdout",
     "output_type": "stream",
     "text": [
      "   R&D Spend  Administration  Marketing Spend       State     Profit\n",
      "0  165349.20       136897.80        471784.10    New York  192261.83\n",
      "1  162597.70       151377.59        443898.53  California  191792.06\n",
      "2  153441.51       101145.55        407934.54     Florida  191050.39\n",
      "3  144372.41       118671.85        383199.62    New York  182901.99\n",
      "4  142107.34        91391.77        366168.42     Florida  166187.94\n"
     ]
    }
   ],
   "source": [
    "file = 'https://raw.githubusercontent.com/redashu/Datasets/refs/heads/master/Startups_Data.csv'\n",
    "df = pd.read_csv(file)\n",
    "print(df.head())"
   ]
  }
 ],
 "metadata": {
  "kernelspec": {
   "display_name": "Python 3 (ipykernel)",
   "language": "python",
   "name": "python3"
  },
  "language_info": {
   "codemirror_mode": {
    "name": "ipython",
    "version": 3
   },
   "file_extension": ".py",
   "mimetype": "text/x-python",
   "name": "python",
   "nbconvert_exporter": "python",
   "pygments_lexer": "ipython3",
   "version": "3.12.3"
  }
 },
 "nbformat": 4,
 "nbformat_minor": 5
}
